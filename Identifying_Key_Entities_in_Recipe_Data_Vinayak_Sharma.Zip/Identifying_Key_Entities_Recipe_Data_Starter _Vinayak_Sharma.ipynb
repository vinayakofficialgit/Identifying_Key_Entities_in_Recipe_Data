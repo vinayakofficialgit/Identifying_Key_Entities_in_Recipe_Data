{
 "cells": [
  {
   "cell_type": "markdown",
   "metadata": {
    "id": "42UBKEnat_xo"
   },
   "source": [
    "# **Identifying Key Entities in Recipe Data**"
   ]
  },
  {
   "cell_type": "markdown",
   "metadata": {
    "id": "Pme3h_fduOKh"
   },
   "source": [
    "\n",
    "**Business Objective**:\n",
    "The goal of this assignment is to train a Named Entity Recognition (NER) model using Conditional Random Fields (CRF) to extract key entities from recipe data. The model will classify words into predefined categories such as ingredients, quantities and units, enabling the creation of a structured database of recipes and ingredients that can be used to power advanced features in recipe management systems, dietary tracking apps, or e-commerce platforms."
   ]
  },
  {
   "cell_type": "markdown",
   "metadata": {
    "id": "FXzoAs8evNG0"
   },
   "source": [
    "### **Data Description**\n",
    "The given data is in JSON format, representing a **structured recipe ingredient list** with **Named Entity Recognition (NER) labels**. Below is a breakdown of the data fields:\n",
    "\n",
    "```json\n",
    "[\n",
    "    {\n",
    "        \"input\": \"6 Karela Bitter Gourd Pavakkai Salt 1 Onion 3 tablespoon Gram flour besan 2 teaspoons Turmeric powder Haldi Red Chilli Cumin seeds Jeera Coriander Powder Dhania Amchur Dry Mango Sunflower Oil\",\n",
    "        \"pos\": \"quantity ingredient ingredient ingredient ingredient ingredient quantity ingredient quantity unit ingredient ingredient ingredient quantity unit ingredient ingredient ingredient ingredient ingredient ingredient ingredient ingredient ingredient ingredient ingredient ingredient ingredient ingredient ingredient ingredient\"\n",
    "    },\n",
    "    {\n",
    "      \"input\": \"2-1/2 cups rice cooked 3 tomatoes teaspoons BC Belle Bhat powder 1 teaspoon chickpea lentils 1/2 cumin seeds white urad dal mustard green chilli dry red 2 cashew or peanuts 1-1/2 tablespoon oil asafoetida\",\n",
    "      \"pos\": \"quantity unit ingredient ingredient quantity ingredient unit ingredient ingredient ingredient ingredient quantity unit ingredient ingredient quantity ingredient ingredient ingredient ingredient ingredient ingredient ingredient ingredient ingredient ingredient quantity ingredient ingredient ingredient quantity unit ingredient ingredient\"\n",
    "    }\n",
    "]\n"
   ]
  },
  {
   "cell_type": "markdown",
   "metadata": {
    "id": "LSDcNvJlwC6N"
   },
   "source": [
    "| **Key**  | **Description**  |\n",
    "|----------|-----------------|\n",
    "| `input`  | Contains a raw ingredient list from a recipe. |\n",
    "| `pos`    | Represents the corresponding part-of-speech (POS) tags or NER labels, identifying quantities, ingredients, and units. |\n"
   ]
  },
  {
   "cell_type": "markdown",
   "metadata": {
    "id": "phenosA4se1c"
   },
   "source": [
    "## **1** Import libraries"
   ]
  },
  {
   "cell_type": "markdown",
   "metadata": {
    "id": "Br-jQHin3kQX"
   },
   "source": [
    "#### **1.1** Installation of sklearn-crfsuite"
   ]
  },
  {
   "cell_type": "markdown",
   "metadata": {
    "id": "DPhaJSfCwpfa"
   },
   "source": [
    "sklearn-crfsuite is a Python wrapper for CRFsuite, a fast and efficient implementation of Conditional Random Fields (CRFs). It is designed to integrate seamlessly with scikit-learn for structured prediction tasks such as Named Entity Recognition (NER), Part-of-Speech (POS) tagging, and chunking."
   ]
  },
  {
   "cell_type": "code",
   "execution_count": 1,
   "metadata": {
    "colab": {
     "base_uri": "https://localhost:8080/"
    },
    "id": "_QawokgQXAMO",
    "outputId": "76f8f162-38d0-448c-c95e-3cd13612e829"
   },
   "outputs": [
    {
     "name": "stdout",
     "output_type": "stream",
     "text": [
      "Defaulting to user installation because normal site-packages is not writeable\n",
      "Requirement already satisfied: sklearn_crfsuite==0.5.0 in /home/deq/.local/lib/python3.8/site-packages (0.5.0)\n",
      "Requirement already satisfied: python-crfsuite>=0.9.7 in /home/deq/.local/lib/python3.8/site-packages (from sklearn_crfsuite==0.5.0) (0.9.11)\n",
      "Requirement already satisfied: scikit-learn>=0.24.0 in /home/deq/.local/lib/python3.8/site-packages (from sklearn_crfsuite==0.5.0) (1.3.2)\n",
      "Requirement already satisfied: tabulate>=0.4.2 in /home/deq/.local/lib/python3.8/site-packages (from sklearn_crfsuite==0.5.0) (0.9.0)\n",
      "Requirement already satisfied: tqdm>=2.0 in /home/deq/.local/lib/python3.8/site-packages (from sklearn_crfsuite==0.5.0) (4.67.1)\n",
      "Requirement already satisfied: numpy<2.0,>=1.17.3 in /home/deq/.local/lib/python3.8/site-packages (from scikit-learn>=0.24.0->sklearn_crfsuite==0.5.0) (1.24.4)\n",
      "Requirement already satisfied: scipy>=1.5.0 in /home/deq/.local/lib/python3.8/site-packages (from scikit-learn>=0.24.0->sklearn_crfsuite==0.5.0) (1.10.1)\n",
      "Requirement already satisfied: joblib>=1.1.1 in /home/deq/.local/lib/python3.8/site-packages (from scikit-learn>=0.24.0->sklearn_crfsuite==0.5.0) (1.4.2)\n",
      "Requirement already satisfied: threadpoolctl>=2.0.0 in /home/deq/.local/lib/python3.8/site-packages (from scikit-learn>=0.24.0->sklearn_crfsuite==0.5.0) (3.5.0)\n"
     ]
    }
   ],
   "source": [
    "# installation of sklearn_crfsuite\n",
    "!pip install sklearn_crfsuite==0.5.0"
   ]
  },
  {
   "cell_type": "markdown",
   "metadata": {
    "id": "svqZwrHT3rzV"
   },
   "source": [
    "#### **1.2** Import necessary libraries"
   ]
  },
  {
   "cell_type": "code",
   "execution_count": 2,
   "metadata": {
    "id": "v2zLbaB0w1ZH"
   },
   "outputs": [],
   "source": [
    "# Import warnings\n",
    "import warnings\n",
    "warnings.filterwarnings('ignore')"
   ]
  },
  {
   "cell_type": "code",
   "execution_count": 3,
   "metadata": {
    "id": "0hlp-Ln4WsaV"
   },
   "outputs": [],
   "source": [
    "# Import necessary libraries\n",
    "import json  # For handling JSON data\n",
    "import pandas as pd  # For data manipulation and analysis\n",
    "import re  # For regular expressions (useful for text preprocessing)\n",
    "import matplotlib.pyplot as plt  # For visualisation\n",
    "import seaborn as sns  # For advanced data visualisation\n",
    "import sklearn_crfsuite  # CRF (Conditional Random Fields) implementation for sequence modeling\n",
    "import numpy as np  # For numerical computations\n",
    "# Saving and loading machine learning models\n",
    "import joblib\n",
    "import random\n",
    "import spacy\n",
    "from IPython.display import display, Markdown # For displaying well-formatted output\n",
    "\n",
    "from fractions import Fraction  # For handling fractional values in numerical data\n",
    "# Importing tools for feature engineering and model training\n",
    "from collections import Counter  # For counting occurrences of elements in a list\n",
    "from sklearn.model_selection import train_test_split  # For splitting dataset into train and test sets\n",
    "from sklearn_crfsuite import metrics  # For evaluating CRF models\n",
    "from sklearn_crfsuite.metrics import flat_classification_report\n",
    "from sklearn.utils.class_weight import compute_class_weight\n",
    "from collections import Counter\n",
    "from sklearn.metrics import confusion_matrix"
   ]
  },
  {
   "cell_type": "code",
   "execution_count": 4,
   "metadata": {
    "id": "k3_LR6N_2cli"
   },
   "outputs": [],
   "source": [
    "# Ensure pandas displays full content\n",
    "pd.set_option('display.max_colwidth', None)\n",
    "pd.set_option('display.expand_frame_repr', False)"
   ]
  },
  {
   "cell_type": "markdown",
   "metadata": {
    "id": "fUOu_u0fyMfh"
   },
   "source": [
    "## **2** Data Ingestion and Preparation <font color = red>[25 marks]</font> <br>"
   ]
  },
  {
   "cell_type": "markdown",
   "metadata": {
    "id": "-ksMVNgeyiLN"
   },
   "source": [
    "#### **2.1** *Read Recipe Data from Dataframe and prepare the data for analysis* <font color = red>[12 marks]</font> <br>\n",
    "Read the data from JSON file, print first five rows and describe the dataframe"
   ]
  },
  {
   "cell_type": "markdown",
   "metadata": {
    "id": "kxn28jL3z4GY"
   },
   "source": [
    "##### **2.1.1** **Define a *load_json_dataframe* function** <font color = red>[7 marks]</font> <br>\n",
    "\n",
    "Define a function that takes path of the ingredient_and_quantity.json file and reads it, convert it into dataframe - df and return it."
   ]
  },
  {
   "cell_type": "code",
   "execution_count": 5,
   "metadata": {
    "id": "dq6UgUYcPyOL"
   },
   "outputs": [],
   "source": [
    "# define a function to load json file to a dataframe\n",
    "def load_json_dataframe(file_path):\n",
    "  with open(file_path, 'r') as file:\n",
    "    data = json.load(file)\n",
    "  return pd.DataFrame(data)\n",
    "\n",
    "\n"
   ]
  },
  {
   "cell_type": "markdown",
   "metadata": {
    "id": "1NlhkH_605IA"
   },
   "source": [
    "##### **2.1.2** **Execute the *load_json_dataframe* function** <font color = red>[2 marks]</font> <br>"
   ]
  },
  {
   "cell_type": "code",
   "execution_count": 6,
   "metadata": {
    "id": "UONMkMsrxdxB"
   },
   "outputs": [],
   "source": [
    "# read the json file by giving the file path and create a dataframe\n",
    "df=load_json_dataframe('ingredient_and_quantity.json')"
   ]
  },
  {
   "cell_type": "markdown",
   "metadata": {
    "id": "_1VkDbev3UHP"
   },
   "source": [
    "##### **2.1.3** **Describe the dataframe** <font color = red>[3 marks]</font> <br>\n",
    "\n",
    "Print first five rows of dataframe along with dimensions. Display the information of dataframe"
   ]
  },
  {
   "cell_type": "code",
   "execution_count": 7,
   "metadata": {
    "colab": {
     "base_uri": "https://localhost:8080/",
     "height": 310
    },
    "id": "yZFj2skZxgpl",
    "outputId": "5a6b6dc4-88a5-48de-caa2-eb381ba231af"
   },
   "outputs": [
    {
     "data": {
      "text/html": [
       "<div>\n",
       "<style scoped>\n",
       "    .dataframe tbody tr th:only-of-type {\n",
       "        vertical-align: middle;\n",
       "    }\n",
       "\n",
       "    .dataframe tbody tr th {\n",
       "        vertical-align: top;\n",
       "    }\n",
       "\n",
       "    .dataframe thead th {\n",
       "        text-align: right;\n",
       "    }\n",
       "</style>\n",
       "<table border=\"1\" class=\"dataframe\">\n",
       "  <thead>\n",
       "    <tr style=\"text-align: right;\">\n",
       "      <th></th>\n",
       "      <th>input</th>\n",
       "      <th>pos</th>\n",
       "    </tr>\n",
       "  </thead>\n",
       "  <tbody>\n",
       "    <tr>\n",
       "      <th>0</th>\n",
       "      <td>6 Karela Bitter Gourd Pavakkai Salt 1 Onion 3 tablespoon Gram flour besan 2 teaspoons Turmeric powder Haldi Red Chilli Cumin seeds Jeera Coriander Powder Dhania Amchur Dry Mango Sunflower Oil</td>\n",
       "      <td>quantity ingredient ingredient ingredient ingredient ingredient quantity ingredient quantity unit ingredient ingredient ingredient quantity unit ingredient ingredient ingredient ingredient ingredient ingredient ingredient ingredient ingredient ingredient ingredient ingredient ingredient ingredient ingredient ingredient</td>\n",
       "    </tr>\n",
       "    <tr>\n",
       "      <th>1</th>\n",
       "      <td>2-1/2 cups rice cooked 3 tomatoes teaspoons BC Belle Bhat powder 1 teaspoon chickpea lentils 1/2 cumin seeds white urad dal mustard green chilli dry red 2 cashew or peanuts 1-1/2 tablespoon oil asafoetida</td>\n",
       "      <td>quantity unit ingredient ingredient quantity ingredient unit ingredient ingredient ingredient ingredient quantity unit ingredient ingredient quantity ingredient ingredient ingredient ingredient ingredient ingredient ingredient ingredient ingredient ingredient quantity ingredient ingredient ingredient quantity unit ingredient ingredient</td>\n",
       "    </tr>\n",
       "    <tr>\n",
       "      <th>2</th>\n",
       "      <td>1-1/2 cups Rice Vermicelli Noodles Thin 1 Onion sliced 1/2 cup Carrots Gajjar chopped 1/3 Green peas Matar 2 Chillies 1/4 teaspoon Asafoetida hing Mustard seeds White Urad Dal Split Ghee sprig Curry leaves Salt Lemon juice</td>\n",
       "      <td>quantity unit ingredient ingredient ingredient ingredient quantity ingredient ingredient quantity unit ingredient ingredient ingredient quantity ingredient ingredient ingredient quantity ingredient quantity unit ingredient ingredient ingredient ingredient ingredient ingredient ingredient ingredient ingredient unit ingredient ingredient ingredient ingredient ingredient</td>\n",
       "    </tr>\n",
       "    <tr>\n",
       "      <th>3</th>\n",
       "      <td>500 grams Chicken 2 Onion chopped 1 Tomato 4 Green Chillies slit inch Ginger finely 6 cloves Garlic 1/2 teaspoon Turmeric powder Haldi Garam masala tablespoon Sesame Gingelly Oil 1/4 Methi Seeds Fenugreek Coriander Dhania Dry Red Fennel seeds Saunf cups Sorrel Leaves Gongura picked and</td>\n",
       "      <td>quantity unit ingredient quantity ingredient ingredient quantity ingredient quantity ingredient ingredient ingredient unit ingredient ingredient quantity unit ingredient quantity unit ingredient ingredient ingredient ingredient ingredient unit ingredient ingredient ingredient quantity ingredient ingredient ingredient ingredient ingredient ingredient ingredient ingredient ingredient ingredient unit ingredient ingredient ingredient ingredient ingredient</td>\n",
       "    </tr>\n",
       "    <tr>\n",
       "      <th>4</th>\n",
       "      <td>1 tablespoon chana dal white urad 2 red chillies coriander seeds 3 inches ginger onion tomato Teaspoon mustard asafoetida sprig curry</td>\n",
       "      <td>quantity unit ingredient ingredient ingredient ingredient quantity ingredient ingredient ingredient ingredient quantity unit ingredient ingredient ingredient unit ingredient ingredient unit ingredient</td>\n",
       "    </tr>\n",
       "  </tbody>\n",
       "</table>\n",
       "</div>"
      ],
      "text/plain": [
       "                                                                                                                                                                                                                                                                                            input                                                                                                                                                                                                                                                                                                                                                                                                                                                                      pos\n",
       "0                                                                                                 6 Karela Bitter Gourd Pavakkai Salt 1 Onion 3 tablespoon Gram flour besan 2 teaspoons Turmeric powder Haldi Red Chilli Cumin seeds Jeera Coriander Powder Dhania Amchur Dry Mango Sunflower Oil                                                                                                                                         quantity ingredient ingredient ingredient ingredient ingredient quantity ingredient quantity unit ingredient ingredient ingredient quantity unit ingredient ingredient ingredient ingredient ingredient ingredient ingredient ingredient ingredient ingredient ingredient ingredient ingredient ingredient ingredient ingredient\n",
       "1                                                                                    2-1/2 cups rice cooked 3 tomatoes teaspoons BC Belle Bhat powder 1 teaspoon chickpea lentils 1/2 cumin seeds white urad dal mustard green chilli dry red 2 cashew or peanuts 1-1/2 tablespoon oil asafoetida                                                                                                                        quantity unit ingredient ingredient quantity ingredient unit ingredient ingredient ingredient ingredient quantity unit ingredient ingredient quantity ingredient ingredient ingredient ingredient ingredient ingredient ingredient ingredient ingredient ingredient quantity ingredient ingredient ingredient quantity unit ingredient ingredient\n",
       "2                                                                  1-1/2 cups Rice Vermicelli Noodles Thin 1 Onion sliced 1/2 cup Carrots Gajjar chopped 1/3 Green peas Matar 2 Chillies 1/4 teaspoon Asafoetida hing Mustard seeds White Urad Dal Split Ghee sprig Curry leaves Salt Lemon juice                                                                                       quantity unit ingredient ingredient ingredient ingredient quantity ingredient ingredient quantity unit ingredient ingredient ingredient quantity ingredient ingredient ingredient quantity ingredient quantity unit ingredient ingredient ingredient ingredient ingredient ingredient ingredient ingredient ingredient unit ingredient ingredient ingredient ingredient ingredient\n",
       "3  500 grams Chicken 2 Onion chopped 1 Tomato 4 Green Chillies slit inch Ginger finely 6 cloves Garlic 1/2 teaspoon Turmeric powder Haldi Garam masala tablespoon Sesame Gingelly Oil 1/4 Methi Seeds Fenugreek Coriander Dhania Dry Red Fennel seeds Saunf cups Sorrel Leaves Gongura picked and  quantity unit ingredient quantity ingredient ingredient quantity ingredient quantity ingredient ingredient ingredient unit ingredient ingredient quantity unit ingredient quantity unit ingredient ingredient ingredient ingredient ingredient unit ingredient ingredient ingredient quantity ingredient ingredient ingredient ingredient ingredient ingredient ingredient ingredient ingredient ingredient unit ingredient ingredient ingredient ingredient ingredient\n",
       "4                                                                                                                                                           1 tablespoon chana dal white urad 2 red chillies coriander seeds 3 inches ginger onion tomato Teaspoon mustard asafoetida sprig curry                                                                                                                                                                                                                                                                 quantity unit ingredient ingredient ingredient ingredient quantity ingredient ingredient ingredient ingredient quantity unit ingredient ingredient ingredient unit ingredient ingredient unit ingredient"
      ]
     },
     "execution_count": 7,
     "metadata": {},
     "output_type": "execute_result"
    }
   ],
   "source": [
    "# display first five rows of the dataframe - df\n",
    "df.head()"
   ]
  },
  {
   "cell_type": "code",
   "execution_count": 8,
   "metadata": {
    "colab": {
     "base_uri": "https://localhost:8080/",
     "height": 143
    },
    "id": "Y7cA28XSx1I1",
    "outputId": "e75800f4-8465-4c0c-8c9d-85177fed3275"
   },
   "outputs": [
    {
     "data": {
      "text/markdown": [
       "### Dimensions of the DataFrame:"
      ],
      "text/plain": [
       "<IPython.core.display.Markdown object>"
      ]
     },
     "metadata": {},
     "output_type": "display_data"
    },
    {
     "data": {
      "text/markdown": [
       "**Rows:** 285, **Columns:** 2"
      ],
      "text/plain": [
       "<IPython.core.display.Markdown object>"
      ]
     },
     "metadata": {},
     "output_type": "display_data"
    },
    {
     "data": {
      "text/markdown": [
       "### Column Names:"
      ],
      "text/plain": [
       "<IPython.core.display.Markdown object>"
      ]
     },
     "metadata": {},
     "output_type": "display_data"
    },
    {
     "data": {
      "text/markdown": [
       "**Columns:** input, pos"
      ],
      "text/plain": [
       "<IPython.core.display.Markdown object>"
      ]
     },
     "metadata": {},
     "output_type": "display_data"
    }
   ],
   "source": [
    "# print the dimensions of dataframe - df\n",
    "display(Markdown(\"### Dimensions of the DataFrame:\"))\n",
    "display(Markdown(f\"**Rows:** {df.shape[0]}, **Columns:** {df.shape[1]}\"))\n",
    "# print the column names of dataframe - df\n",
    "display(Markdown(\"### Column Names:\"))\n",
    "display(Markdown(f\"**Columns:** {', '.join(df.columns)}\"))"
   ]
  },
  {
   "cell_type": "code",
   "execution_count": 9,
   "metadata": {
    "colab": {
     "base_uri": "https://localhost:8080/",
     "height": 214
    },
    "id": "Q-gsbEhJx2rm",
    "outputId": "f5fe7500-0a54-4884-aad5-c444bd2f1875"
   },
   "outputs": [
    {
     "data": {
      "text/markdown": [
       "### DataFrame Information:"
      ],
      "text/plain": [
       "<IPython.core.display.Markdown object>"
      ]
     },
     "metadata": {},
     "output_type": "display_data"
    },
    {
     "name": "stdout",
     "output_type": "stream",
     "text": [
      "<class 'pandas.core.frame.DataFrame'>\n",
      "RangeIndex: 285 entries, 0 to 284\n",
      "Data columns (total 2 columns):\n",
      " #   Column  Non-Null Count  Dtype \n",
      "---  ------  --------------  ----- \n",
      " 0   input   285 non-null    object\n",
      " 1   pos     285 non-null    object\n",
      "dtypes: object(2)\n",
      "memory usage: 4.6+ KB\n"
     ]
    }
   ],
   "source": [
    "# print the information of the dataframe\n",
    "display(Markdown(\"### DataFrame Information:\"))\n",
    "df.info()"
   ]
  },
  {
   "cell_type": "code",
   "execution_count": null,
   "metadata": {
    "id": "141YwtX0xAX5"
   },
   "outputs": [],
   "source": []
  },
  {
   "cell_type": "markdown",
   "metadata": {
    "id": "1y18LwoqyFpk"
   },
   "source": [
    "#### **2.2** *Recipe Data Manipulation* <font color = red>[13 marks]</font> <br>\n",
    "Create derived metrics in dataframe and provide insights of the dataframe"
   ]
  },
  {
   "cell_type": "markdown",
   "metadata": {
    "id": "bhNG_XC1r4Qw"
   },
   "source": [
    "##### **2.2.1** **Create input_tokens and pos_tokens columns by splitting the input and pos from the dataframe** <font color = red>[3 marks]</font> <br>\n",
    "Split the input and pos into input_tokens and pos_tokens in the dataframe and display it in the dataframe"
   ]
  },
  {
   "cell_type": "code",
   "execution_count": 10,
   "metadata": {
    "id": "nma6uJwmXUas"
   },
   "outputs": [],
   "source": [
    "# split the input and pos into input_tokens and pos_tokens in the dataframe\n",
    "\n",
    "# Tokenize input\n",
    "df['input_tokens'] = df['input'].apply(lambda x: x.split())\n",
    "# Tokenize POS\n",
    "df['pos_tokens'] = df['pos'].apply(lambda x: x.split())"
   ]
  },
  {
   "cell_type": "code",
   "execution_count": 11,
   "metadata": {
    "colab": {
     "base_uri": "https://localhost:8080/",
     "height": 542
    },
    "id": "9g-ajvFBzaaf",
    "outputId": "bfb99d30-5078-4af7-c535-6c8243f5b3bc"
   },
   "outputs": [
    {
     "data": {
      "text/markdown": [
       "### First five rows of the DataFrame:"
      ],
      "text/plain": [
       "<IPython.core.display.Markdown object>"
      ]
     },
     "metadata": {},
     "output_type": "display_data"
    },
    {
     "data": {
      "text/html": [
       "<div>\n",
       "<style scoped>\n",
       "    .dataframe tbody tr th:only-of-type {\n",
       "        vertical-align: middle;\n",
       "    }\n",
       "\n",
       "    .dataframe tbody tr th {\n",
       "        vertical-align: top;\n",
       "    }\n",
       "\n",
       "    .dataframe thead th {\n",
       "        text-align: right;\n",
       "    }\n",
       "</style>\n",
       "<table border=\"1\" class=\"dataframe\">\n",
       "  <thead>\n",
       "    <tr style=\"text-align: right;\">\n",
       "      <th></th>\n",
       "      <th>input</th>\n",
       "      <th>pos</th>\n",
       "      <th>input_tokens</th>\n",
       "      <th>pos_tokens</th>\n",
       "    </tr>\n",
       "  </thead>\n",
       "  <tbody>\n",
       "    <tr>\n",
       "      <th>0</th>\n",
       "      <td>6 Karela Bitter Gourd Pavakkai Salt 1 Onion 3 tablespoon Gram flour besan 2 teaspoons Turmeric powder Haldi Red Chilli Cumin seeds Jeera Coriander Powder Dhania Amchur Dry Mango Sunflower Oil</td>\n",
       "      <td>quantity ingredient ingredient ingredient ingredient ingredient quantity ingredient quantity unit ingredient ingredient ingredient quantity unit ingredient ingredient ingredient ingredient ingredient ingredient ingredient ingredient ingredient ingredient ingredient ingredient ingredient ingredient ingredient ingredient</td>\n",
       "      <td>[6, Karela, Bitter, Gourd, Pavakkai, Salt, 1, Onion, 3, tablespoon, Gram, flour, besan, 2, teaspoons, Turmeric, powder, Haldi, Red, Chilli, Cumin, seeds, Jeera, Coriander, Powder, Dhania, Amchur, Dry, Mango, Sunflower, Oil]</td>\n",
       "      <td>[quantity, ingredient, ingredient, ingredient, ingredient, ingredient, quantity, ingredient, quantity, unit, ingredient, ingredient, ingredient, quantity, unit, ingredient, ingredient, ingredient, ingredient, ingredient, ingredient, ingredient, ingredient, ingredient, ingredient, ingredient, ingredient, ingredient, ingredient, ingredient, ingredient]</td>\n",
       "    </tr>\n",
       "    <tr>\n",
       "      <th>1</th>\n",
       "      <td>2-1/2 cups rice cooked 3 tomatoes teaspoons BC Belle Bhat powder 1 teaspoon chickpea lentils 1/2 cumin seeds white urad dal mustard green chilli dry red 2 cashew or peanuts 1-1/2 tablespoon oil asafoetida</td>\n",
       "      <td>quantity unit ingredient ingredient quantity ingredient unit ingredient ingredient ingredient ingredient quantity unit ingredient ingredient quantity ingredient ingredient ingredient ingredient ingredient ingredient ingredient ingredient ingredient ingredient quantity ingredient ingredient ingredient quantity unit ingredient ingredient</td>\n",
       "      <td>[2-1/2, cups, rice, cooked, 3, tomatoes, teaspoons, BC, Belle, Bhat, powder, 1, teaspoon, chickpea, lentils, 1/2, cumin, seeds, white, urad, dal, mustard, green, chilli, dry, red, 2, cashew, or, peanuts, 1-1/2, tablespoon, oil, asafoetida]</td>\n",
       "      <td>[quantity, unit, ingredient, ingredient, quantity, ingredient, unit, ingredient, ingredient, ingredient, ingredient, quantity, unit, ingredient, ingredient, quantity, ingredient, ingredient, ingredient, ingredient, ingredient, ingredient, ingredient, ingredient, ingredient, ingredient, quantity, ingredient, ingredient, ingredient, quantity, unit, ingredient, ingredient]</td>\n",
       "    </tr>\n",
       "    <tr>\n",
       "      <th>2</th>\n",
       "      <td>1-1/2 cups Rice Vermicelli Noodles Thin 1 Onion sliced 1/2 cup Carrots Gajjar chopped 1/3 Green peas Matar 2 Chillies 1/4 teaspoon Asafoetida hing Mustard seeds White Urad Dal Split Ghee sprig Curry leaves Salt Lemon juice</td>\n",
       "      <td>quantity unit ingredient ingredient ingredient ingredient quantity ingredient ingredient quantity unit ingredient ingredient ingredient quantity ingredient ingredient ingredient quantity ingredient quantity unit ingredient ingredient ingredient ingredient ingredient ingredient ingredient ingredient ingredient unit ingredient ingredient ingredient ingredient ingredient</td>\n",
       "      <td>[1-1/2, cups, Rice, Vermicelli, Noodles, Thin, 1, Onion, sliced, 1/2, cup, Carrots, Gajjar, chopped, 1/3, Green, peas, Matar, 2, Chillies, 1/4, teaspoon, Asafoetida, hing, Mustard, seeds, White, Urad, Dal, Split, Ghee, sprig, Curry, leaves, Salt, Lemon, juice]</td>\n",
       "      <td>[quantity, unit, ingredient, ingredient, ingredient, ingredient, quantity, ingredient, ingredient, quantity, unit, ingredient, ingredient, ingredient, quantity, ingredient, ingredient, ingredient, quantity, ingredient, quantity, unit, ingredient, ingredient, ingredient, ingredient, ingredient, ingredient, ingredient, ingredient, ingredient, unit, ingredient, ingredient, ingredient, ingredient, ingredient]</td>\n",
       "    </tr>\n",
       "    <tr>\n",
       "      <th>3</th>\n",
       "      <td>500 grams Chicken 2 Onion chopped 1 Tomato 4 Green Chillies slit inch Ginger finely 6 cloves Garlic 1/2 teaspoon Turmeric powder Haldi Garam masala tablespoon Sesame Gingelly Oil 1/4 Methi Seeds Fenugreek Coriander Dhania Dry Red Fennel seeds Saunf cups Sorrel Leaves Gongura picked and</td>\n",
       "      <td>quantity unit ingredient quantity ingredient ingredient quantity ingredient quantity ingredient ingredient ingredient unit ingredient ingredient quantity unit ingredient quantity unit ingredient ingredient ingredient ingredient ingredient unit ingredient ingredient ingredient quantity ingredient ingredient ingredient ingredient ingredient ingredient ingredient ingredient ingredient ingredient unit ingredient ingredient ingredient ingredient ingredient</td>\n",
       "      <td>[500, grams, Chicken, 2, Onion, chopped, 1, Tomato, 4, Green, Chillies, slit, inch, Ginger, finely, 6, cloves, Garlic, 1/2, teaspoon, Turmeric, powder, Haldi, Garam, masala, tablespoon, Sesame, Gingelly, Oil, 1/4, Methi, Seeds, Fenugreek, Coriander, Dhania, Dry, Red, Fennel, seeds, Saunf, cups, Sorrel, Leaves, Gongura, picked, and]</td>\n",
       "      <td>[quantity, unit, ingredient, quantity, ingredient, ingredient, quantity, ingredient, quantity, ingredient, ingredient, ingredient, unit, ingredient, ingredient, quantity, unit, ingredient, quantity, unit, ingredient, ingredient, ingredient, ingredient, ingredient, unit, ingredient, ingredient, ingredient, quantity, ingredient, ingredient, ingredient, ingredient, ingredient, ingredient, ingredient, ingredient, ingredient, ingredient, unit, ingredient, ingredient, ingredient, ingredient, ingredient]</td>\n",
       "    </tr>\n",
       "    <tr>\n",
       "      <th>4</th>\n",
       "      <td>1 tablespoon chana dal white urad 2 red chillies coriander seeds 3 inches ginger onion tomato Teaspoon mustard asafoetida sprig curry</td>\n",
       "      <td>quantity unit ingredient ingredient ingredient ingredient quantity ingredient ingredient ingredient ingredient quantity unit ingredient ingredient ingredient unit ingredient ingredient unit ingredient</td>\n",
       "      <td>[1, tablespoon, chana, dal, white, urad, 2, red, chillies, coriander, seeds, 3, inches, ginger, onion, tomato, Teaspoon, mustard, asafoetida, sprig, curry]</td>\n",
       "      <td>[quantity, unit, ingredient, ingredient, ingredient, ingredient, quantity, ingredient, ingredient, ingredient, ingredient, quantity, unit, ingredient, ingredient, ingredient, unit, ingredient, ingredient, unit, ingredient]</td>\n",
       "    </tr>\n",
       "  </tbody>\n",
       "</table>\n",
       "</div>"
      ],
      "text/plain": [
       "                                                                                                                                                                                                                                                                                            input                                                                                                                                                                                                                                                                                                                                                                                                                                                                      pos                                                                                                                                                                                                                                                                                                                                   input_tokens                                                                                                                                                                                                                                                                                                                                                                                                                                                                                                              pos_tokens\n",
       "0                                                                                                 6 Karela Bitter Gourd Pavakkai Salt 1 Onion 3 tablespoon Gram flour besan 2 teaspoons Turmeric powder Haldi Red Chilli Cumin seeds Jeera Coriander Powder Dhania Amchur Dry Mango Sunflower Oil                                                                                                                                         quantity ingredient ingredient ingredient ingredient ingredient quantity ingredient quantity unit ingredient ingredient ingredient quantity unit ingredient ingredient ingredient ingredient ingredient ingredient ingredient ingredient ingredient ingredient ingredient ingredient ingredient ingredient ingredient ingredient                                                                                                                [6, Karela, Bitter, Gourd, Pavakkai, Salt, 1, Onion, 3, tablespoon, Gram, flour, besan, 2, teaspoons, Turmeric, powder, Haldi, Red, Chilli, Cumin, seeds, Jeera, Coriander, Powder, Dhania, Amchur, Dry, Mango, Sunflower, Oil]                                                                                                                                                        [quantity, ingredient, ingredient, ingredient, ingredient, ingredient, quantity, ingredient, quantity, unit, ingredient, ingredient, ingredient, quantity, unit, ingredient, ingredient, ingredient, ingredient, ingredient, ingredient, ingredient, ingredient, ingredient, ingredient, ingredient, ingredient, ingredient, ingredient, ingredient, ingredient]\n",
       "1                                                                                    2-1/2 cups rice cooked 3 tomatoes teaspoons BC Belle Bhat powder 1 teaspoon chickpea lentils 1/2 cumin seeds white urad dal mustard green chilli dry red 2 cashew or peanuts 1-1/2 tablespoon oil asafoetida                                                                                                                        quantity unit ingredient ingredient quantity ingredient unit ingredient ingredient ingredient ingredient quantity unit ingredient ingredient quantity ingredient ingredient ingredient ingredient ingredient ingredient ingredient ingredient ingredient ingredient quantity ingredient ingredient ingredient quantity unit ingredient ingredient                                                                                                [2-1/2, cups, rice, cooked, 3, tomatoes, teaspoons, BC, Belle, Bhat, powder, 1, teaspoon, chickpea, lentils, 1/2, cumin, seeds, white, urad, dal, mustard, green, chilli, dry, red, 2, cashew, or, peanuts, 1-1/2, tablespoon, oil, asafoetida]                                                                                                                                    [quantity, unit, ingredient, ingredient, quantity, ingredient, unit, ingredient, ingredient, ingredient, ingredient, quantity, unit, ingredient, ingredient, quantity, ingredient, ingredient, ingredient, ingredient, ingredient, ingredient, ingredient, ingredient, ingredient, ingredient, quantity, ingredient, ingredient, ingredient, quantity, unit, ingredient, ingredient]\n",
       "2                                                                  1-1/2 cups Rice Vermicelli Noodles Thin 1 Onion sliced 1/2 cup Carrots Gajjar chopped 1/3 Green peas Matar 2 Chillies 1/4 teaspoon Asafoetida hing Mustard seeds White Urad Dal Split Ghee sprig Curry leaves Salt Lemon juice                                                                                       quantity unit ingredient ingredient ingredient ingredient quantity ingredient ingredient quantity unit ingredient ingredient ingredient quantity ingredient ingredient ingredient quantity ingredient quantity unit ingredient ingredient ingredient ingredient ingredient ingredient ingredient ingredient ingredient unit ingredient ingredient ingredient ingredient ingredient                                                                           [1-1/2, cups, Rice, Vermicelli, Noodles, Thin, 1, Onion, sliced, 1/2, cup, Carrots, Gajjar, chopped, 1/3, Green, peas, Matar, 2, Chillies, 1/4, teaspoon, Asafoetida, hing, Mustard, seeds, White, Urad, Dal, Split, Ghee, sprig, Curry, leaves, Salt, Lemon, juice]                                                                                                [quantity, unit, ingredient, ingredient, ingredient, ingredient, quantity, ingredient, ingredient, quantity, unit, ingredient, ingredient, ingredient, quantity, ingredient, ingredient, ingredient, quantity, ingredient, quantity, unit, ingredient, ingredient, ingredient, ingredient, ingredient, ingredient, ingredient, ingredient, ingredient, unit, ingredient, ingredient, ingredient, ingredient, ingredient]\n",
       "3  500 grams Chicken 2 Onion chopped 1 Tomato 4 Green Chillies slit inch Ginger finely 6 cloves Garlic 1/2 teaspoon Turmeric powder Haldi Garam masala tablespoon Sesame Gingelly Oil 1/4 Methi Seeds Fenugreek Coriander Dhania Dry Red Fennel seeds Saunf cups Sorrel Leaves Gongura picked and  quantity unit ingredient quantity ingredient ingredient quantity ingredient quantity ingredient ingredient ingredient unit ingredient ingredient quantity unit ingredient quantity unit ingredient ingredient ingredient ingredient ingredient unit ingredient ingredient ingredient quantity ingredient ingredient ingredient ingredient ingredient ingredient ingredient ingredient ingredient ingredient unit ingredient ingredient ingredient ingredient ingredient  [500, grams, Chicken, 2, Onion, chopped, 1, Tomato, 4, Green, Chillies, slit, inch, Ginger, finely, 6, cloves, Garlic, 1/2, teaspoon, Turmeric, powder, Haldi, Garam, masala, tablespoon, Sesame, Gingelly, Oil, 1/4, Methi, Seeds, Fenugreek, Coriander, Dhania, Dry, Red, Fennel, seeds, Saunf, cups, Sorrel, Leaves, Gongura, picked, and]  [quantity, unit, ingredient, quantity, ingredient, ingredient, quantity, ingredient, quantity, ingredient, ingredient, ingredient, unit, ingredient, ingredient, quantity, unit, ingredient, quantity, unit, ingredient, ingredient, ingredient, ingredient, ingredient, unit, ingredient, ingredient, ingredient, quantity, ingredient, ingredient, ingredient, ingredient, ingredient, ingredient, ingredient, ingredient, ingredient, ingredient, unit, ingredient, ingredient, ingredient, ingredient, ingredient]\n",
       "4                                                                                                                                                           1 tablespoon chana dal white urad 2 red chillies coriander seeds 3 inches ginger onion tomato Teaspoon mustard asafoetida sprig curry                                                                                                                                                                                                                                                                 quantity unit ingredient ingredient ingredient ingredient quantity ingredient ingredient ingredient ingredient quantity unit ingredient ingredient ingredient unit ingredient ingredient unit ingredient                                                                                                                                                                                    [1, tablespoon, chana, dal, white, urad, 2, red, chillies, coriander, seeds, 3, inches, ginger, onion, tomato, Teaspoon, mustard, asafoetida, sprig, curry]                                                                                                                                                                                                                                                                                          [quantity, unit, ingredient, ingredient, ingredient, ingredient, quantity, ingredient, ingredient, ingredient, ingredient, quantity, unit, ingredient, ingredient, ingredient, unit, ingredient, ingredient, unit, ingredient]"
      ]
     },
     "metadata": {},
     "output_type": "display_data"
    }
   ],
   "source": [
    "# display first five rows of the dataframe - df\n",
    "display(Markdown(\"### First five rows of the DataFrame:\"))\n",
    "display(df.head())"
   ]
  },
  {
   "cell_type": "code",
   "execution_count": null,
   "metadata": {
    "id": "ngmXp77DzJMm"
   },
   "outputs": [],
   "source": []
  },
  {
   "cell_type": "markdown",
   "metadata": {
    "id": "-JtvsBYur-oV"
   },
   "source": [
    "##### **2.2.2** **Provide the length for input_tokens and pos_tokens and validate their length** <font color = red>[2 marks]</font> <br>\n",
    "\n",
    "Create input_length and pos_length columns in the dataframe and validate both the lengths. Check for the rows that are unequal in input and pos length\n"
   ]
  },
  {
   "cell_type": "code",
   "execution_count": 12,
   "metadata": {
    "id": "GeVRD2IK1Jrg"
   },
   "outputs": [],
   "source": [
    "# create input_length and pos_length columns for the input_tokens and pos-tokens\n",
    "df['input_length'] = df['input_tokens'].apply(len)\n",
    "df['pos_length'] = df['pos_tokens'].apply(len)"
   ]
  },
  {
   "cell_type": "code",
   "execution_count": 13,
   "metadata": {
    "colab": {
     "base_uri": "https://localhost:8080/",
     "height": 293
    },
    "id": "BPMOlLnz1P1H",
    "outputId": "b69c115a-1448-448b-e281-5c52c8958e9c"
   },
   "outputs": [
    {
     "name": "stdout",
     "output_type": "stream",
     "text": [
      "Number of rows with unequal input_length and pos_length: 5\n",
      "\n",
      "Rows with unequal lengths:\n"
     ]
    },
    {
     "data": {
      "text/html": [
       "<div>\n",
       "<style scoped>\n",
       "    .dataframe tbody tr th:only-of-type {\n",
       "        vertical-align: middle;\n",
       "    }\n",
       "\n",
       "    .dataframe tbody tr th {\n",
       "        vertical-align: top;\n",
       "    }\n",
       "\n",
       "    .dataframe thead th {\n",
       "        text-align: right;\n",
       "    }\n",
       "</style>\n",
       "<table border=\"1\" class=\"dataframe\">\n",
       "  <thead>\n",
       "    <tr style=\"text-align: right;\">\n",
       "      <th></th>\n",
       "      <th>input_length</th>\n",
       "      <th>pos_length</th>\n",
       "    </tr>\n",
       "  </thead>\n",
       "  <tbody>\n",
       "    <tr>\n",
       "      <th>17</th>\n",
       "      <td>15</td>\n",
       "      <td>14</td>\n",
       "    </tr>\n",
       "    <tr>\n",
       "      <th>27</th>\n",
       "      <td>37</td>\n",
       "      <td>36</td>\n",
       "    </tr>\n",
       "    <tr>\n",
       "      <th>79</th>\n",
       "      <td>38</td>\n",
       "      <td>37</td>\n",
       "    </tr>\n",
       "    <tr>\n",
       "      <th>164</th>\n",
       "      <td>54</td>\n",
       "      <td>53</td>\n",
       "    </tr>\n",
       "    <tr>\n",
       "      <th>207</th>\n",
       "      <td>18</td>\n",
       "      <td>17</td>\n",
       "    </tr>\n",
       "  </tbody>\n",
       "</table>\n",
       "</div>"
      ],
      "text/plain": [
       "     input_length  pos_length\n",
       "17             15          14\n",
       "27             37          36\n",
       "79             38          37\n",
       "164            54          53\n",
       "207            18          17"
      ]
     },
     "metadata": {},
     "output_type": "display_data"
    },
    {
     "name": "stdout",
     "output_type": "stream",
     "text": [
      "\n",
      "Indexes of unequal rows: [17, 27, 79, 164, 207]\n"
     ]
    }
   ],
   "source": [
    "# check for the equality of input_length and pos_length in the dataframe\n",
    "unequal_rows = df[df['input_length'] != df['pos_length']]\n",
    "print(f\"Number of rows with unequal input_length and pos_length: {len(unequal_rows)}\")\n",
    "\n",
    "if len(unequal_rows) > 0:\n",
    "    print(\"\\nRows with unequal lengths:\")\n",
    "    display(unequal_rows[['input_length', 'pos_length']])\n",
    "    print(f\"\\nIndexes of unequal rows: {unequal_rows.index.tolist()}\")\n",
    "else:\n",
    "    print(\"All rows have equal input_length and pos_length\")\n",
    "\n"
   ]
  },
  {
   "cell_type": "markdown",
   "metadata": {
    "id": "dpJQu3JE_P7Z"
   },
   "source": [
    "##### **2.2.3** **Define a unique_labels function and validate the labels in pos_tokens** <font color = red>[2 marks]</font> <br>\n",
    "\n",
    "Define a unique_labels function which checks for all the unique pos labels in the recipe & execute it.\n"
   ]
  },
  {
   "cell_type": "code",
   "execution_count": 14,
   "metadata": {
    "colab": {
     "base_uri": "https://localhost:8080/"
    },
    "id": "-4aMFCxXO_GJ",
    "outputId": "f84e2b04-fd4a-4366-f863-590a88aa5001"
   },
   "outputs": [
    {
     "name": "stdout",
     "output_type": "stream",
     "text": [
      "Unique POS lables found in the dataset: ['ingredient', 'quantity', 'unit']\n"
     ]
    }
   ],
   "source": [
    "# Define a unique_labels function to checks for all the unique pos labels in the recipe & print it\n",
    "def unique_labels(df):\n",
    "  # Flatten the list of pos_tokens into one long list\n",
    "  all_labels = [label for sublist in df['pos_tokens'] for label in sublist]\n",
    "  # Use set to get unique lables\n",
    "  unique = set(all_labels)\n",
    "  print(f\"Unique POS lables found in the dataset: {sorted(unique)}\")\n",
    "  return unique\n",
    "\n",
    "  for label in labels:\n",
    "    unique_labels.update(label)\n",
    "  return unique_labels\n",
    "unique_pos_tags = unique_labels(df)"
   ]
  },
  {
   "cell_type": "markdown",
   "metadata": {
    "id": "JbriClEV9CW5"
   },
   "source": [
    "##### **2.2.3** **Provide the insights seen in the recipe data after validation** <font color = red>[1 marks]</font> <br>\n",
    "\n",
    "Provide the indexes that requires cleaning and formatting in the dataframe"
   ]
  },
  {
   "cell_type": "code",
   "execution_count": 15,
   "metadata": {
    "colab": {
     "base_uri": "https://localhost:8080/"
    },
    "id": "spbQzVJILNWR",
    "outputId": "77abc7d8-fed3-4963-8d46-6d22c9b6bbf7"
   },
   "outputs": [
    {
     "name": "stdout",
     "output_type": "stream",
     "text": [
      "Total mismatched rows: 5\n",
      "Indexes needing cleaning: [17, 27, 79, 164, 207]\n"
     ]
    }
   ],
   "source": [
    "# Get indexes where input and POS lengths don't match\n",
    "mismatched_indexes = df[df['input_length'] != df['pos_length']].index.tolist()\n",
    "\n",
    "# Print results\n",
    "print(f\"Total mismatched rows: {len(mismatched_indexes)}\")\n",
    "print(\"Indexes needing cleaning:\", mismatched_indexes)"
   ]
  },
  {
   "cell_type": "markdown",
   "metadata": {
    "id": "rrNQ4AtD9RPk"
   },
   "source": [
    "<div style=\"background-color:#ffffff; border:1px solid #dcdcdc; padding:15px; border-radius:6px; margin-bottom:20px;\">\n",
    "    <h3>Problematic Rows Identified:</h3>\n",
    "    <ul>\n",
    "        <li>Index 17: <strong>input_length = 15</strong>, <strong>pos_length = 14</strong> (missing 1 POS label)</li>\n",
    "        <li>Index 27: <strong>input_length = 37</strong>, <strong>pos_length = 36</strong> (missing 1 POS label)</li>\n",
    "        <li>Index 79: <strong>input_length = 38</strong>, <strong>pos_length = 37</strong> (missing 1 POS label)</li>\n",
    "        <li>Index 164: <strong>input_length = 54</strong>, <strong>pos_length = 53</strong> (missing 1 POS label)</li>\n",
    "        <li>Index 207: <strong>input_length = 18</strong>, <strong>pos_length = 17</strong> (missing 1 POS label)</li>\n",
    "    </ul>\n",
    "</div>\n",
    "\n",
    "<div style=\"background-color:#ffffff; border:1px solid #dcdcdc; padding:15px; border-radius:6px; margin-bottom:20px;\">\n",
    "    <h3>Key Issues:</h3>\n",
    "    <ul>\n",
    "        <li>All problematic rows have <strong>fewer POS labels</strong> than input tokens</li>\n",
    "        <li>This causes <strong>misalignment</strong> between tokens and their corresponding labels</li>\n",
    "        <li>Such misalignment will cause <strong>training errors</strong> in the CRF model</li>\n",
    "        <li>The data integrity is <strong>compromised</strong> for proper sequence labeling</li>\n",
    "    </ul>\n",
    "</div>\n",
    "\n",
    "<div style=\"background-color:#ffffff; border:1px solid #dcdcdc; padding:15px; border-radius:6px;\">\n",
    "    <h3>Required Action:</h3>\n",
    "    <div style=\"background-color:#fff3cd; border-left:5px solid #ffc107; padding:10px; margin-top:10px;\">\n",
    "        These 5 rows (<strong>indexes: 17, 27, 79, 164, 207</strong>) need to be <strong>dropped</strong> from the dataset to ensure:\n",
    "    </div>\n",
    "    <ul>\n",
    "        <li>Perfect alignment between input tokens and POS labels</li>\n",
    "        <li>Clean training data for the CRF model</li>\n",
    "        <li>Reliable sequence labeling performance</li>\n",
    "    </ul>\n",
    "</div>\n",
    "\"\"\"\n",
    "\n",
    "display(HTML(html_content))\n"
   ]
  },
  {
   "cell_type": "markdown",
   "metadata": {
    "id": "Qtqtij2-CD2m"
   },
   "source": [
    "##### **2.2.4** **Drop the rows that have invalid data provided in previous cell** <font color = red> [2 marks]</font> <br>"
   ]
  },
  {
   "cell_type": "code",
   "execution_count": 16,
   "metadata": {
    "colab": {
     "base_uri": "https://localhost:8080/"
    },
    "id": "jaiy1pYWCFPA",
    "outputId": "f663df23-5071-4555-de71-70426fa8f96a"
   },
   "outputs": [
    {
     "name": "stdout",
     "output_type": "stream",
     "text": [
      "Dropped 5 rows with misaligned data\n",
      "Remaining rows in dataframe: 280\n",
      "Index reset successfully\n"
     ]
    }
   ],
   "source": [
    "# drop the irrelevant recipe data\n",
    "df = df.drop(unequal_rows.index)\n",
    "print(f\"Dropped {len(unequal_rows)} rows with misaligned data\")\n",
    "print(f\"Remaining rows in dataframe: {len(df)}\")\n",
    "\n",
    "# Reset index to maintain sequential indexing\n",
    "df = df.reset_index(drop=True)\n",
    "print(\"Index reset successfully\")\n"
   ]
  },
  {
   "cell_type": "markdown",
   "metadata": {
    "id": "_RJEStPSC9PB"
   },
   "source": [
    "##### **2.2.5** **Update the input_length & pos_length in dataframe**<font color = red> [2 marks]</font> <br>"
   ]
  },
  {
   "cell_type": "code",
   "execution_count": 17,
   "metadata": {
    "id": "XjJd7gPI5_ca"
   },
   "outputs": [],
   "source": [
    "# update the input and pos length in input_length and pos_length\n",
    "df['input_length'] = df['input_tokens'].apply(len)\n",
    "df['pos_length'] = df['pos_tokens'].apply(len)"
   ]
  },
  {
   "cell_type": "markdown",
   "metadata": {
    "id": "qJdYJ2TEDBzd"
   },
   "source": [
    "##### **2.2.6** **Validate the input_length and pos_length by checking unequal rows** <font color = red> [1 marks]</font> <br>"
   ]
  },
  {
   "cell_type": "code",
   "execution_count": 18,
   "metadata": {
    "colab": {
     "base_uri": "https://localhost:8080/"
    },
    "id": "fdSsdOPM8aXo",
    "outputId": "f1c6d627-39fd-4060-8268-83da1e4eeb34"
   },
   "outputs": [
    {
     "name": "stdout",
     "output_type": "stream",
     "text": [
      "Number of rows with unequal input_length and pos_length after cleaning: 0\n",
      "All rows have equal input_length and pos_length\n",
      "Data validation successful - ready for CRF training\n"
     ]
    }
   ],
   "source": [
    "# validate the input length and pos length as input_length and pos_length\n",
    "# check for the equality of input_length and pos_length in the dataframe after cleaning\n",
    "\n",
    "unequal_rows_after_cleaning = df[df['input_length'] != df['pos_length']]\n",
    "print(f\"Number of rows with unequal input_length and pos_length after cleaning: {len(unequal_rows_after_cleaning)}\")\n",
    "\n",
    "if len(unequal_rows_after_cleaning) > 0:\n",
    "    print(\"\\nRows with unequal lengths:\")\n",
    "    display(unequal_rows_after_cleaning[['input_length', 'pos_length']])\n",
    "    print(f\"\\nIndexes of unequal rows: {unequal_rows_after_cleaning.index.tolist()}\")\n",
    "else:\n",
    "    print(\"All rows have equal input_length and pos_length\")\n",
    "    print(\"Data validation successful - ready for CRF training\")\n",
    "\n",
    "\n"
   ]
  },
  {
   "cell_type": "code",
   "execution_count": null,
   "metadata": {
    "id": "mvlaFjqcy5hu"
   },
   "outputs": [],
   "source": []
  },
  {
   "cell_type": "markdown",
   "metadata": {
    "id": "TwKLW4em-qMu"
   },
   "source": [
    "## **3** Train Validation Split (70 train - 30 val) <font color = red>[6 marks]</font> <br>"
   ]
  },
  {
   "cell_type": "markdown",
   "metadata": {
    "id": "z_pJDTVO-71z"
   },
   "source": [
    "#### **3.1** *Perform train and validation split ratio* <font color = red>[6 marks]</font> <br>\n",
    "Split the dataset with the help of input_tokens and pos_tokens and make a ratio of 70:30 split for training and validation datasets."
   ]
  },
  {
   "cell_type": "markdown",
   "metadata": {
    "id": "l-64gdDiIy9u"
   },
   "source": [
    "###### **3.1.1** **Split the dataset into train_df and val_df into 70:30 ratio** <font color = red> [1 marks]</font> <br>"
   ]
  },
  {
   "cell_type": "code",
   "execution_count": 19,
   "metadata": {
    "colab": {
     "base_uri": "https://localhost:8080/"
    },
    "id": "W20A_-9E_WOv",
    "outputId": "5f0e8dcd-bbbb-4bed-b4c4-af4effc6e7ff"
   },
   "outputs": [
    {
     "name": "stdout",
     "output_type": "stream",
     "text": [
      "Training set size: 196 rows\n",
      "Validation set size: 84 rows\n",
      "Training ratio: 70.0%\n",
      "Validation ratio: 30.0%\n"
     ]
    }
   ],
   "source": [
    "# split the dataset into training and validation sets\n",
    "train_df, val_df = train_test_split(df, test_size=0.3, random_state=42)\n",
    "# Reset index to maintain sequential indexing\n",
    "train_df = train_df.reset_index(drop=True)\n",
    "val_df = val_df.reset_index(drop=True)\n",
    "\n",
    "print(f\"Training set size: {len(train_df)} rows\")\n",
    "print(f\"Validation set size: {len(val_df)} rows\")\n",
    "print(f\"Training ratio: {len(train_df)/len(df):.1%}\")\n",
    "print(f\"Validation ratio: {len(val_df)/len(df):.1%}\")"
   ]
  },
  {
   "cell_type": "markdown",
   "metadata": {
    "id": "PUA05_77JRAv"
   },
   "source": [
    "###### **3.1.2** **Print the first five rows of train_df and val_df** <font color = red> [1 marks]</font> <br>"
   ]
  },
  {
   "cell_type": "code",
   "execution_count": 20,
   "metadata": {
    "colab": {
     "base_uri": "https://localhost:8080/",
     "height": 473
    },
    "id": "pgMZfsbV_XhK",
    "outputId": "9e9d79e8-2eb4-411a-ce6c-0315d39f72a6"
   },
   "outputs": [
    {
     "data": {
      "text/markdown": [
       "### First five rows of the Training DataFrame:"
      ],
      "text/plain": [
       "<IPython.core.display.Markdown object>"
      ]
     },
     "metadata": {},
     "output_type": "display_data"
    },
    {
     "data": {
      "text/html": [
       "<div>\n",
       "<style scoped>\n",
       "    .dataframe tbody tr th:only-of-type {\n",
       "        vertical-align: middle;\n",
       "    }\n",
       "\n",
       "    .dataframe tbody tr th {\n",
       "        vertical-align: top;\n",
       "    }\n",
       "\n",
       "    .dataframe thead th {\n",
       "        text-align: right;\n",
       "    }\n",
       "</style>\n",
       "<table border=\"1\" class=\"dataframe\">\n",
       "  <thead>\n",
       "    <tr style=\"text-align: right;\">\n",
       "      <th></th>\n",
       "      <th>input</th>\n",
       "      <th>pos</th>\n",
       "      <th>input_tokens</th>\n",
       "      <th>pos_tokens</th>\n",
       "      <th>input_length</th>\n",
       "      <th>pos_length</th>\n",
       "    </tr>\n",
       "  </thead>\n",
       "  <tbody>\n",
       "    <tr>\n",
       "      <th>0</th>\n",
       "      <td>250 grams Okra Oil 1 Onion finely chopped Tomato Grated teaspoon Ginger 2 Garlic Finely 1/2 Cumin seeds 1/4 Teaspoon asafoetida cup cottage cheese pinched coriander powder mango red chilli turmeric</td>\n",
       "      <td>quantity unit ingredient ingredient quantity ingredient ingredient ingredient ingredient ingredient unit ingredient quantity ingredient ingredient quantity ingredient ingredient quantity unit ingredient unit ingredient ingredient ingredient ingredient ingredient ingredient ingredient ingredient ingredient</td>\n",
       "      <td>[250, grams, Okra, Oil, 1, Onion, finely, chopped, Tomato, Grated, teaspoon, Ginger, 2, Garlic, Finely, 1/2, Cumin, seeds, 1/4, Teaspoon, asafoetida, cup, cottage, cheese, pinched, coriander, powder, mango, red, chilli, turmeric]</td>\n",
       "      <td>[quantity, unit, ingredient, ingredient, quantity, ingredient, ingredient, ingredient, ingredient, ingredient, unit, ingredient, quantity, ingredient, ingredient, quantity, ingredient, ingredient, quantity, unit, ingredient, unit, ingredient, ingredient, ingredient, ingredient, ingredient, ingredient, ingredient, ingredient, ingredient]</td>\n",
       "      <td>31</td>\n",
       "      <td>31</td>\n",
       "    </tr>\n",
       "    <tr>\n",
       "      <th>1</th>\n",
       "      <td>200 grams Paneer Homemade Cottage Cheese 2 Potato Aloo Bay leaf tej patta Dry Red Chilli 1 tablespoon Panch Phoran Masala roasted and powdered Tomato big sized teaspoon Turmeric powder Haldi Cumin seeds Jeera Ginger grated Salt 1/2 Sugar Sunflower Oil</td>\n",
       "      <td>quantity unit ingredient ingredient ingredient ingredient quantity ingredient ingredient ingredient ingredient ingredient ingredient ingredient ingredient ingredient quantity unit ingredient ingredient ingredient ingredient ingredient ingredient ingredient ingredient ingredient unit ingredient ingredient ingredient ingredient ingredient ingredient ingredient ingredient ingredient quantity ingredient ingredient ingredient</td>\n",
       "      <td>[200, grams, Paneer, Homemade, Cottage, Cheese, 2, Potato, Aloo, Bay, leaf, tej, patta, Dry, Red, Chilli, 1, tablespoon, Panch, Phoran, Masala, roasted, and, powdered, Tomato, big, sized, teaspoon, Turmeric, powder, Haldi, Cumin, seeds, Jeera, Ginger, grated, Salt, 1/2, Sugar, Sunflower, Oil]</td>\n",
       "      <td>[quantity, unit, ingredient, ingredient, ingredient, ingredient, quantity, ingredient, ingredient, ingredient, ingredient, ingredient, ingredient, ingredient, ingredient, ingredient, quantity, unit, ingredient, ingredient, ingredient, ingredient, ingredient, ingredient, ingredient, ingredient, ingredient, unit, ingredient, ingredient, ingredient, ingredient, ingredient, ingredient, ingredient, ingredient, ingredient, quantity, ingredient, ingredient, ingredient]</td>\n",
       "      <td>41</td>\n",
       "      <td>41</td>\n",
       "    </tr>\n",
       "    <tr>\n",
       "      <th>2</th>\n",
       "      <td>500 grams Cabbage Patta Gobi Muttaikose 1 teaspoon Mustard seeds 1-1/2 White Urad Dal Split sprig Curry leaves Green Chilli 1/4 cup Fresh coconut Salt</td>\n",
       "      <td>quantity unit ingredient ingredient ingredient ingredient quantity unit ingredient ingredient quantity ingredient ingredient ingredient ingredient unit ingredient ingredient ingredient ingredient quantity unit ingredient ingredient ingredient</td>\n",
       "      <td>[500, grams, Cabbage, Patta, Gobi, Muttaikose, 1, teaspoon, Mustard, seeds, 1-1/2, White, Urad, Dal, Split, sprig, Curry, leaves, Green, Chilli, 1/4, cup, Fresh, coconut, Salt]</td>\n",
       "      <td>[quantity, unit, ingredient, ingredient, ingredient, ingredient, quantity, unit, ingredient, ingredient, quantity, ingredient, ingredient, ingredient, ingredient, unit, ingredient, ingredient, ingredient, ingredient, quantity, unit, ingredient, ingredient, ingredient]</td>\n",
       "      <td>25</td>\n",
       "      <td>25</td>\n",
       "    </tr>\n",
       "    <tr>\n",
       "      <th>3</th>\n",
       "      <td>500 grams Fresh Figs 1/4 cup Lemon juice 1 teaspoon zest 2 Red Chilli flakes 1/2 Honey Brown Sugar (Demerara Sugar)</td>\n",
       "      <td>quantity unit ingredient ingredient quantity unit ingredient ingredient quantity unit ingredient quantity ingredient ingredient ingredient quantity ingredient ingredient ingredient ingredient ingredient</td>\n",
       "      <td>[500, grams, Fresh, Figs, 1/4, cup, Lemon, juice, 1, teaspoon, zest, 2, Red, Chilli, flakes, 1/2, Honey, Brown, Sugar, (Demerara, Sugar)]</td>\n",
       "      <td>[quantity, unit, ingredient, ingredient, quantity, unit, ingredient, ingredient, quantity, unit, ingredient, quantity, ingredient, ingredient, ingredient, quantity, ingredient, ingredient, ingredient, ingredient, ingredient]</td>\n",
       "      <td>21</td>\n",
       "      <td>21</td>\n",
       "    </tr>\n",
       "    <tr>\n",
       "      <th>4</th>\n",
       "      <td>2 cups Water 1 teaspoon Tea leaves 1/4 Milk 10 Saffron strands</td>\n",
       "      <td>quantity unit ingredient quantity unit ingredient ingredient quantity ingredient quantity ingredient ingredient</td>\n",
       "      <td>[2, cups, Water, 1, teaspoon, Tea, leaves, 1/4, Milk, 10, Saffron, strands]</td>\n",
       "      <td>[quantity, unit, ingredient, quantity, unit, ingredient, ingredient, quantity, ingredient, quantity, ingredient, ingredient]</td>\n",
       "      <td>12</td>\n",
       "      <td>12</td>\n",
       "    </tr>\n",
       "  </tbody>\n",
       "</table>\n",
       "</div>"
      ],
      "text/plain": [
       "                                                                                                                                                                                                                                                         input                                                                                                                                                                                                                                                                                                                                                                                                                                       pos                                                                                                                                                                                                                                                                                           input_tokens                                                                                                                                                                                                                                                                                                                                                                                                                                                                          pos_tokens  input_length  pos_length\n",
       "0                                                        250 grams Okra Oil 1 Onion finely chopped Tomato Grated teaspoon Ginger 2 Garlic Finely 1/2 Cumin seeds 1/4 Teaspoon asafoetida cup cottage cheese pinched coriander powder mango red chilli turmeric                                                                                                                        quantity unit ingredient ingredient quantity ingredient ingredient ingredient ingredient ingredient unit ingredient quantity ingredient ingredient quantity ingredient ingredient quantity unit ingredient unit ingredient ingredient ingredient ingredient ingredient ingredient ingredient ingredient ingredient                                                                  [250, grams, Okra, Oil, 1, Onion, finely, chopped, Tomato, Grated, teaspoon, Ginger, 2, Garlic, Finely, 1/2, Cumin, seeds, 1/4, Teaspoon, asafoetida, cup, cottage, cheese, pinched, coriander, powder, mango, red, chilli, turmeric]                                                                                                                                  [quantity, unit, ingredient, ingredient, quantity, ingredient, ingredient, ingredient, ingredient, ingredient, unit, ingredient, quantity, ingredient, ingredient, quantity, ingredient, ingredient, quantity, unit, ingredient, unit, ingredient, ingredient, ingredient, ingredient, ingredient, ingredient, ingredient, ingredient, ingredient]            31          31\n",
       "1  200 grams Paneer Homemade Cottage Cheese 2 Potato Aloo Bay leaf tej patta Dry Red Chilli 1 tablespoon Panch Phoran Masala roasted and powdered Tomato big sized teaspoon Turmeric powder Haldi Cumin seeds Jeera Ginger grated Salt 1/2 Sugar Sunflower Oil  quantity unit ingredient ingredient ingredient ingredient quantity ingredient ingredient ingredient ingredient ingredient ingredient ingredient ingredient ingredient quantity unit ingredient ingredient ingredient ingredient ingredient ingredient ingredient ingredient ingredient unit ingredient ingredient ingredient ingredient ingredient ingredient ingredient ingredient ingredient quantity ingredient ingredient ingredient  [200, grams, Paneer, Homemade, Cottage, Cheese, 2, Potato, Aloo, Bay, leaf, tej, patta, Dry, Red, Chilli, 1, tablespoon, Panch, Phoran, Masala, roasted, and, powdered, Tomato, big, sized, teaspoon, Turmeric, powder, Haldi, Cumin, seeds, Jeera, Ginger, grated, Salt, 1/2, Sugar, Sunflower, Oil]  [quantity, unit, ingredient, ingredient, ingredient, ingredient, quantity, ingredient, ingredient, ingredient, ingredient, ingredient, ingredient, ingredient, ingredient, ingredient, quantity, unit, ingredient, ingredient, ingredient, ingredient, ingredient, ingredient, ingredient, ingredient, ingredient, unit, ingredient, ingredient, ingredient, ingredient, ingredient, ingredient, ingredient, ingredient, ingredient, quantity, ingredient, ingredient, ingredient]            41          41\n",
       "2                                                                                                       500 grams Cabbage Patta Gobi Muttaikose 1 teaspoon Mustard seeds 1-1/2 White Urad Dal Split sprig Curry leaves Green Chilli 1/4 cup Fresh coconut Salt                                                                                                                                                                                        quantity unit ingredient ingredient ingredient ingredient quantity unit ingredient ingredient quantity ingredient ingredient ingredient ingredient unit ingredient ingredient ingredient ingredient quantity unit ingredient ingredient ingredient                                                                                                                       [500, grams, Cabbage, Patta, Gobi, Muttaikose, 1, teaspoon, Mustard, seeds, 1-1/2, White, Urad, Dal, Split, sprig, Curry, leaves, Green, Chilli, 1/4, cup, Fresh, coconut, Salt]                                                                                                                                                                                                        [quantity, unit, ingredient, ingredient, ingredient, ingredient, quantity, unit, ingredient, ingredient, quantity, ingredient, ingredient, ingredient, ingredient, unit, ingredient, ingredient, ingredient, ingredient, quantity, unit, ingredient, ingredient, ingredient]            25          25\n",
       "3                                                                                                                                          500 grams Fresh Figs 1/4 cup Lemon juice 1 teaspoon zest 2 Red Chilli flakes 1/2 Honey Brown Sugar (Demerara Sugar)                                                                                                                                                                                                                                quantity unit ingredient ingredient quantity unit ingredient ingredient quantity unit ingredient quantity ingredient ingredient ingredient quantity ingredient ingredient ingredient ingredient ingredient                                                                                                                                                              [500, grams, Fresh, Figs, 1/4, cup, Lemon, juice, 1, teaspoon, zest, 2, Red, Chilli, flakes, 1/2, Honey, Brown, Sugar, (Demerara, Sugar)]                                                                                                                                                                                                                                                    [quantity, unit, ingredient, ingredient, quantity, unit, ingredient, ingredient, quantity, unit, ingredient, quantity, ingredient, ingredient, ingredient, quantity, ingredient, ingredient, ingredient, ingredient, ingredient]            21          21\n",
       "4                                                                                                                                                                                               2 cups Water 1 teaspoon Tea leaves 1/4 Milk 10 Saffron strands                                                                                                                                                                                                                                                                                                                           quantity unit ingredient quantity unit ingredient ingredient quantity ingredient quantity ingredient ingredient                                                                                                                                                                                                                            [2, cups, Water, 1, teaspoon, Tea, leaves, 1/4, Milk, 10, Saffron, strands]                                                                                                                                                                                                                                                                                                                                                        [quantity, unit, ingredient, quantity, unit, ingredient, ingredient, quantity, ingredient, quantity, ingredient, ingredient]            12          12"
      ]
     },
     "metadata": {},
     "output_type": "display_data"
    }
   ],
   "source": [
    "# print the first five rows of train_df\n",
    "display(Markdown(\"### First five rows of the Training DataFrame:\"))\n",
    "display(train_df.head())"
   ]
  },
  {
   "cell_type": "code",
   "execution_count": 21,
   "metadata": {
    "colab": {
     "base_uri": "https://localhost:8080/",
     "height": 594
    },
    "id": "Kgtg5WE4_d7h",
    "outputId": "e5ac61d2-cc16-4f46-b994-6f323ba78df2"
   },
   "outputs": [
    {
     "data": {
      "text/markdown": [
       "### First five rows of the Validation DataFrame:"
      ],
      "text/plain": [
       "<IPython.core.display.Markdown object>"
      ]
     },
     "metadata": {},
     "output_type": "display_data"
    },
    {
     "data": {
      "text/html": [
       "<div>\n",
       "<style scoped>\n",
       "    .dataframe tbody tr th:only-of-type {\n",
       "        vertical-align: middle;\n",
       "    }\n",
       "\n",
       "    .dataframe tbody tr th {\n",
       "        vertical-align: top;\n",
       "    }\n",
       "\n",
       "    .dataframe thead th {\n",
       "        text-align: right;\n",
       "    }\n",
       "</style>\n",
       "<table border=\"1\" class=\"dataframe\">\n",
       "  <thead>\n",
       "    <tr style=\"text-align: right;\">\n",
       "      <th></th>\n",
       "      <th>input</th>\n",
       "      <th>pos</th>\n",
       "      <th>input_tokens</th>\n",
       "      <th>pos_tokens</th>\n",
       "      <th>input_length</th>\n",
       "      <th>pos_length</th>\n",
       "    </tr>\n",
       "  </thead>\n",
       "  <tbody>\n",
       "    <tr>\n",
       "      <th>0</th>\n",
       "      <td>1 cup Ada 2 liter Milk 3/4 Sugar tablespoon Ghee 1/2 teaspoon Cardamom Powder Elaichi</td>\n",
       "      <td>quantity unit ingredient quantity unit ingredient quantity ingredient unit ingredient quantity unit ingredient ingredient ingredient</td>\n",
       "      <td>[1, cup, Ada, 2, liter, Milk, 3/4, Sugar, tablespoon, Ghee, 1/2, teaspoon, Cardamom, Powder, Elaichi]</td>\n",
       "      <td>[quantity, unit, ingredient, quantity, unit, ingredient, quantity, ingredient, unit, ingredient, quantity, unit, ingredient, ingredient, ingredient]</td>\n",
       "      <td>15</td>\n",
       "      <td>15</td>\n",
       "    </tr>\n",
       "    <tr>\n",
       "      <th>1</th>\n",
       "      <td>1 Carrot Gajjar chopped 7 Potatoes Aloo 2 cups Cauliflower gobi cut to small florets Onion tablespoon Ginger Garlic Paste Salt teaspoons Sunflower Oil 1/2 cup Fresh coconut grated teaspoon Whole Black Peppercorns Green Chillies Fennel seeds Saunf Poppy 6 Cashew nuts inch Cinnamon Stick Dalchini Star anise 3 Cloves Laung Cardamom Elaichi Pods/Seeds Cumin Jeera</td>\n",
       "      <td>quantity ingredient ingredient ingredient quantity ingredient ingredient quantity unit ingredient ingredient ingredient ingredient ingredient ingredient ingredient unit ingredient ingredient ingredient ingredient unit ingredient ingredient quantity unit ingredient ingredient ingredient unit ingredient ingredient ingredient ingredient ingredient ingredient ingredient ingredient ingredient quantity ingredient ingredient unit ingredient ingredient ingredient ingredient ingredient quantity ingredient ingredient ingredient ingredient ingredient ingredient ingredient</td>\n",
       "      <td>[1, Carrot, Gajjar, chopped, 7, Potatoes, Aloo, 2, cups, Cauliflower, gobi, cut, to, small, florets, Onion, tablespoon, Ginger, Garlic, Paste, Salt, teaspoons, Sunflower, Oil, 1/2, cup, Fresh, coconut, grated, teaspoon, Whole, Black, Peppercorns, Green, Chillies, Fennel, seeds, Saunf, Poppy, 6, Cashew, nuts, inch, Cinnamon, Stick, Dalchini, Star, anise, 3, Cloves, Laung, Cardamom, Elaichi, Pods/Seeds, Cumin, Jeera]</td>\n",
       "      <td>[quantity, ingredient, ingredient, ingredient, quantity, ingredient, ingredient, quantity, unit, ingredient, ingredient, ingredient, ingredient, ingredient, ingredient, ingredient, unit, ingredient, ingredient, ingredient, ingredient, unit, ingredient, ingredient, quantity, unit, ingredient, ingredient, ingredient, unit, ingredient, ingredient, ingredient, ingredient, ingredient, ingredient, ingredient, ingredient, ingredient, quantity, ingredient, ingredient, unit, ingredient, ingredient, ingredient, ingredient, ingredient, quantity, ingredient, ingredient, ingredient, ingredient, ingredient, ingredient, ingredient]</td>\n",
       "      <td>56</td>\n",
       "      <td>56</td>\n",
       "    </tr>\n",
       "    <tr>\n",
       "      <th>2</th>\n",
       "      <td>1 tablespoon Sunflower Oil 3 Potato Aloo Ginger paste Green Chilli chopped 1-1/12 tablespoons Sesame seeds Til teaspoon Red powder Cumin Jeera Coriander Powder Dhania 1/2 Garam masala 2 Sweet Chutney Date Tamarind Leaves few</td>\n",
       "      <td>quantity unit ingredient ingredient quantity ingredient ingredient ingredient ingredient ingredient ingredient ingredient quantity unit ingredient ingredient ingredient unit ingredient ingredient ingredient ingredient ingredient ingredient ingredient quantity ingredient ingredient quantity ingredient ingredient ingredient ingredient ingredient ingredient</td>\n",
       "      <td>[1, tablespoon, Sunflower, Oil, 3, Potato, Aloo, Ginger, paste, Green, Chilli, chopped, 1-1/12, tablespoons, Sesame, seeds, Til, teaspoon, Red, powder, Cumin, Jeera, Coriander, Powder, Dhania, 1/2, Garam, masala, 2, Sweet, Chutney, Date, Tamarind, Leaves, few]</td>\n",
       "      <td>[quantity, unit, ingredient, ingredient, quantity, ingredient, ingredient, ingredient, ingredient, ingredient, ingredient, ingredient, quantity, unit, ingredient, ingredient, ingredient, unit, ingredient, ingredient, ingredient, ingredient, ingredient, ingredient, ingredient, quantity, ingredient, ingredient, quantity, ingredient, ingredient, ingredient, ingredient, ingredient, ingredient]</td>\n",
       "      <td>35</td>\n",
       "      <td>35</td>\n",
       "    </tr>\n",
       "    <tr>\n",
       "      <th>3</th>\n",
       "      <td>1 cup green peas gram flour 1/2 cheese tsp ginger 2 chillies turmeric powder cumin teaspoon salt oil</td>\n",
       "      <td>quantity unit ingredient ingredient ingredient ingredient quantity ingredient unit ingredient quantity ingredient ingredient ingredient ingredient unit ingredient ingredient</td>\n",
       "      <td>[1, cup, green, peas, gram, flour, 1/2, cheese, tsp, ginger, 2, chillies, turmeric, powder, cumin, teaspoon, salt, oil]</td>\n",
       "      <td>[quantity, unit, ingredient, ingredient, ingredient, ingredient, quantity, ingredient, unit, ingredient, quantity, ingredient, ingredient, ingredient, ingredient, unit, ingredient, ingredient]</td>\n",
       "      <td>18</td>\n",
       "      <td>18</td>\n",
       "    </tr>\n",
       "    <tr>\n",
       "      <th>4</th>\n",
       "      <td>2 cups Brown Rice cooked tablespoons Garlic chopped 1 Green Chilli 1/2 cup Carrots (Gajjar) beans (French Beans) Bell Pepper (Capsicum) Onion Cabbage (Patta Gobi/ Muttaikose) tablespoon Roasted tomato pasta sauce - or store bought Red teaspoon Soy Ginger freshly grated Spring Greens Salt Vinegar Extra Virgin Olive Oil as required</td>\n",
       "      <td>quantity unit ingredient ingredient ingredient unit ingredient ingredient quantity ingredient ingredient quantity unit ingredient ingredient ingredient ingredient ingredient ingredient ingredient ingredient ingredient ingredient ingredient ingredient ingredient unit ingredient ingredient ingredient ingredient ingredient ingredient ingredient ingredient ingredient unit ingredient ingredient ingredient ingredient ingredient ingredient ingredient ingredient ingredient ingredient ingredient ingredient ingredient ingredient</td>\n",
       "      <td>[2, cups, Brown, Rice, cooked, tablespoons, Garlic, chopped, 1, Green, Chilli, 1/2, cup, Carrots, (Gajjar), beans, (French, Beans), Bell, Pepper, (Capsicum), Onion, Cabbage, (Patta, Gobi/, Muttaikose), tablespoon, Roasted, tomato, pasta, sauce, -, or, store, bought, Red, teaspoon, Soy, Ginger, freshly, grated, Spring, Greens, Salt, Vinegar, Extra, Virgin, Olive, Oil, as, required]</td>\n",
       "      <td>[quantity, unit, ingredient, ingredient, ingredient, unit, ingredient, ingredient, quantity, ingredient, ingredient, quantity, unit, ingredient, ingredient, ingredient, ingredient, ingredient, ingredient, ingredient, ingredient, ingredient, ingredient, ingredient, ingredient, ingredient, unit, ingredient, ingredient, ingredient, ingredient, ingredient, ingredient, ingredient, ingredient, ingredient, unit, ingredient, ingredient, ingredient, ingredient, ingredient, ingredient, ingredient, ingredient, ingredient, ingredient, ingredient, ingredient, ingredient, ingredient]</td>\n",
       "      <td>51</td>\n",
       "      <td>51</td>\n",
       "    </tr>\n",
       "  </tbody>\n",
       "</table>\n",
       "</div>"
      ],
      "text/plain": [
       "                                                                                                                                                                                                                                                                                                                                                                       input                                                                                                                                                                                                                                                                                                                                                                                                                                                                                                                                                                                      pos                                                                                                                                                                                                                                                                                                                                                                                                                        input_tokens                                                                                                                                                                                                                                                                                                                                                                                                                                                                                                                                                                                                                                        pos_tokens  input_length  pos_length\n",
       "0                                                                                                                                                                                                                                                                                      1 cup Ada 2 liter Milk 3/4 Sugar tablespoon Ghee 1/2 teaspoon Cardamom Powder Elaichi                                                                                                                                                                                                                                                                                                                                                                                                                                                     quantity unit ingredient quantity unit ingredient quantity ingredient unit ingredient quantity unit ingredient ingredient ingredient                                                                                                                                                                                                                                                                                                                               [1, cup, Ada, 2, liter, Milk, 3/4, Sugar, tablespoon, Ghee, 1/2, teaspoon, Cardamom, Powder, Elaichi]                                                                                                                                                                                                                                                                                                                                                                                                                                                                                              [quantity, unit, ingredient, quantity, unit, ingredient, quantity, ingredient, unit, ingredient, quantity, unit, ingredient, ingredient, ingredient]            15          15\n",
       "1  1 Carrot Gajjar chopped 7 Potatoes Aloo 2 cups Cauliflower gobi cut to small florets Onion tablespoon Ginger Garlic Paste Salt teaspoons Sunflower Oil 1/2 cup Fresh coconut grated teaspoon Whole Black Peppercorns Green Chillies Fennel seeds Saunf Poppy 6 Cashew nuts inch Cinnamon Stick Dalchini Star anise 3 Cloves Laung Cardamom Elaichi Pods/Seeds Cumin Jeera  quantity ingredient ingredient ingredient quantity ingredient ingredient quantity unit ingredient ingredient ingredient ingredient ingredient ingredient ingredient unit ingredient ingredient ingredient ingredient unit ingredient ingredient quantity unit ingredient ingredient ingredient unit ingredient ingredient ingredient ingredient ingredient ingredient ingredient ingredient ingredient quantity ingredient ingredient unit ingredient ingredient ingredient ingredient ingredient quantity ingredient ingredient ingredient ingredient ingredient ingredient ingredient  [1, Carrot, Gajjar, chopped, 7, Potatoes, Aloo, 2, cups, Cauliflower, gobi, cut, to, small, florets, Onion, tablespoon, Ginger, Garlic, Paste, Salt, teaspoons, Sunflower, Oil, 1/2, cup, Fresh, coconut, grated, teaspoon, Whole, Black, Peppercorns, Green, Chillies, Fennel, seeds, Saunf, Poppy, 6, Cashew, nuts, inch, Cinnamon, Stick, Dalchini, Star, anise, 3, Cloves, Laung, Cardamom, Elaichi, Pods/Seeds, Cumin, Jeera]  [quantity, ingredient, ingredient, ingredient, quantity, ingredient, ingredient, quantity, unit, ingredient, ingredient, ingredient, ingredient, ingredient, ingredient, ingredient, unit, ingredient, ingredient, ingredient, ingredient, unit, ingredient, ingredient, quantity, unit, ingredient, ingredient, ingredient, unit, ingredient, ingredient, ingredient, ingredient, ingredient, ingredient, ingredient, ingredient, ingredient, quantity, ingredient, ingredient, unit, ingredient, ingredient, ingredient, ingredient, ingredient, quantity, ingredient, ingredient, ingredient, ingredient, ingredient, ingredient, ingredient]            56          56\n",
       "2                                                                                                                                           1 tablespoon Sunflower Oil 3 Potato Aloo Ginger paste Green Chilli chopped 1-1/12 tablespoons Sesame seeds Til teaspoon Red powder Cumin Jeera Coriander Powder Dhania 1/2 Garam masala 2 Sweet Chutney Date Tamarind Leaves few                                                                                                                                                                                                                     quantity unit ingredient ingredient quantity ingredient ingredient ingredient ingredient ingredient ingredient ingredient quantity unit ingredient ingredient ingredient unit ingredient ingredient ingredient ingredient ingredient ingredient ingredient quantity ingredient ingredient quantity ingredient ingredient ingredient ingredient ingredient ingredient                                                                                                                                                                [1, tablespoon, Sunflower, Oil, 3, Potato, Aloo, Ginger, paste, Green, Chilli, chopped, 1-1/12, tablespoons, Sesame, seeds, Til, teaspoon, Red, powder, Cumin, Jeera, Coriander, Powder, Dhania, 1/2, Garam, masala, 2, Sweet, Chutney, Date, Tamarind, Leaves, few]                                                                                                                                                                                                                                          [quantity, unit, ingredient, ingredient, quantity, ingredient, ingredient, ingredient, ingredient, ingredient, ingredient, ingredient, quantity, unit, ingredient, ingredient, ingredient, unit, ingredient, ingredient, ingredient, ingredient, ingredient, ingredient, ingredient, quantity, ingredient, ingredient, quantity, ingredient, ingredient, ingredient, ingredient, ingredient, ingredient]            35          35\n",
       "3                                                                                                                                                                                                                                                                       1 cup green peas gram flour 1/2 cheese tsp ginger 2 chillies turmeric powder cumin teaspoon salt oil                                                                                                                                                                                                                                                                                                                                                                                                            quantity unit ingredient ingredient ingredient ingredient quantity ingredient unit ingredient quantity ingredient ingredient ingredient ingredient unit ingredient ingredient                                                                                                                                                                                                                                                                                                             [1, cup, green, peas, gram, flour, 1/2, cheese, tsp, ginger, 2, chillies, turmeric, powder, cumin, teaspoon, salt, oil]                                                                                                                                                                                                                                                                                                                                                                                                                                                  [quantity, unit, ingredient, ingredient, ingredient, ingredient, quantity, ingredient, unit, ingredient, quantity, ingredient, ingredient, ingredient, ingredient, unit, ingredient, ingredient]            18          18\n",
       "4                                2 cups Brown Rice cooked tablespoons Garlic chopped 1 Green Chilli 1/2 cup Carrots (Gajjar) beans (French Beans) Bell Pepper (Capsicum) Onion Cabbage (Patta Gobi/ Muttaikose) tablespoon Roasted tomato pasta sauce - or store bought Red teaspoon Soy Ginger freshly grated Spring Greens Salt Vinegar Extra Virgin Olive Oil as required                                             quantity unit ingredient ingredient ingredient unit ingredient ingredient quantity ingredient ingredient quantity unit ingredient ingredient ingredient ingredient ingredient ingredient ingredient ingredient ingredient ingredient ingredient ingredient ingredient unit ingredient ingredient ingredient ingredient ingredient ingredient ingredient ingredient ingredient unit ingredient ingredient ingredient ingredient ingredient ingredient ingredient ingredient ingredient ingredient ingredient ingredient ingredient ingredient                                     [2, cups, Brown, Rice, cooked, tablespoons, Garlic, chopped, 1, Green, Chilli, 1/2, cup, Carrots, (Gajjar), beans, (French, Beans), Bell, Pepper, (Capsicum), Onion, Cabbage, (Patta, Gobi/, Muttaikose), tablespoon, Roasted, tomato, pasta, sauce, -, or, store, bought, Red, teaspoon, Soy, Ginger, freshly, grated, Spring, Greens, Salt, Vinegar, Extra, Virgin, Olive, Oil, as, required]                                                  [quantity, unit, ingredient, ingredient, ingredient, unit, ingredient, ingredient, quantity, ingredient, ingredient, quantity, unit, ingredient, ingredient, ingredient, ingredient, ingredient, ingredient, ingredient, ingredient, ingredient, ingredient, ingredient, ingredient, ingredient, unit, ingredient, ingredient, ingredient, ingredient, ingredient, ingredient, ingredient, ingredient, ingredient, unit, ingredient, ingredient, ingredient, ingredient, ingredient, ingredient, ingredient, ingredient, ingredient, ingredient, ingredient, ingredient, ingredient, ingredient]            51          51"
      ]
     },
     "metadata": {},
     "output_type": "display_data"
    }
   ],
   "source": [
    "# print the first five rows of the val_df\n",
    "display(Markdown(\"### First five rows of the Validation DataFrame:\"))\n",
    "display(val_df.head())\n"
   ]
  },
  {
   "cell_type": "markdown",
   "metadata": {
    "id": "7prEiaiqI_VZ"
   },
   "source": [
    "###### **3.1.3** **Extract the dataset into train_df and val_df into X_train, X_val, y_train and y_val and display their length** <font color = red> [2 marks]</font> <br>\n",
    "\n",
    "Extract X_train, X_val, y_train and y_val by extracting the list of input_tokens and pos_tokens from train_df and val_df and also display their length"
   ]
  },
  {
   "cell_type": "code",
   "execution_count": 22,
   "metadata": {
    "colab": {
     "base_uri": "https://localhost:8080/"
    },
    "id": "BFVnCD71IHXF",
    "outputId": "43dbb796-2b0f-4cc7-a62d-e3340b3ce908"
   },
   "outputs": [
    {
     "name": "stdout",
     "output_type": "stream",
     "text": [
      "X_train length: 196\n",
      "X_val length: 84\n",
      "y_train length: 196\n",
      "y_val length: 84\n"
     ]
    }
   ],
   "source": [
    "# extract the training and validation sets by taking input_tokens and pos_tokens\n",
    "X_train = train_df['input_tokens'].tolist()\n",
    "X_val = val_df['input_tokens'].tolist()\n",
    "y_train = train_df['pos_tokens'].tolist()\n",
    "y_val = val_df['pos_tokens'].tolist()\n",
    "\n",
    "print(f\"X_train length: {len(X_train)}\")\n",
    "print(f\"X_val length: {len(X_val)}\")\n",
    "print(f\"y_train length: {len(y_train)}\")\n",
    "print(f\"y_val length: {len(y_val)}\")"
   ]
  },
  {
   "cell_type": "code",
   "execution_count": 23,
   "metadata": {
    "colab": {
     "base_uri": "https://localhost:8080/"
    },
    "id": "yQPOVz3J_fiq",
    "outputId": "9183a107-da8d-4d4d-aae0-4c57a05a6d43"
   },
   "outputs": [
    {
     "name": "stdout",
     "output_type": "stream",
     "text": [
      "Training dataset validation:\n",
      "Training samples (X_train): 196\n",
      "Training labels (y_train): 196\n",
      "Training dataframe shape: (196, 6)\n",
      "\n",
      "Validation dataset validation:\n",
      "Validation samples (X_val): 84\n",
      "Validation labels (y_val): 84\n",
      "Validation dataframe shape: (84, 6)\n",
      "\n",
      "Dataset split validation:\n",
      "Total original samples: 280\n",
      "Training + Validation samples: 280\n",
      "Split verification: True\n",
      "\n",
      "Sample length validation:\n",
      "X_train sample lengths match y_train: True\n",
      "X_val sample lengths match y_val: True\n"
     ]
    }
   ],
   "source": [
    "# validate the shape of training and validation samples\n",
    "print(\"Training dataset validation:\")\n",
    "print(f\"Training samples (X_train): {len(X_train)}\")\n",
    "print(f\"Training labels (y_train): {len(y_train)}\")\n",
    "print(f\"Training dataframe shape: {train_df.shape}\")\n",
    "\n",
    "print(\"\\nValidation dataset validation:\")\n",
    "print(f\"Validation samples (X_val): {len(X_val)}\")\n",
    "print(f\"Validation labels (y_val): {len(y_val)}\")\n",
    "print(f\"Validation dataframe shape: {val_df.shape}\")\n",
    "\n",
    "print(\"\\nDataset split validation:\")\n",
    "print(f\"Total original samples: {len(df)}\")\n",
    "print(f\"Training + Validation samples: {len(X_train) + len(X_val)}\")\n",
    "print(f\"Split verification: {len(X_train) + len(X_val) == len(df)}\")\n",
    "\n",
    "print(\"\\nSample length validation:\")\n",
    "print(f\"X_train sample lengths match y_train: {len(X_train) == len(y_train)}\")\n",
    "print(f\"X_val sample lengths match y_val: {len(X_val) == len(y_val)}\")"
   ]
  },
  {
   "cell_type": "markdown",
   "metadata": {
    "id": "8uicUYglLeiA"
   },
   "source": [
    "###### **3.1.4** **Display the number of unique labels present in y_train** <font color = red> [2 marks]</font> <br>"
   ]
  },
  {
   "cell_type": "code",
   "execution_count": 24,
   "metadata": {
    "colab": {
     "base_uri": "https://localhost:8080/"
    },
    "id": "hzWtzpdINt6X",
    "outputId": "cd6ee50d-19dc-49b1-d095-24102b3521d5"
   },
   "outputs": [
    {
     "name": "stdout",
     "output_type": "stream",
     "text": [
      "Number of unique labels in y_train: 3\n",
      "Unique labels: ['ingredient', 'quantity', 'unit']\n",
      "\n",
      "Label distribution in y_train:\n",
      "  ingredient: 5323\n",
      "  quantity: 980\n",
      "  unit: 811\n"
     ]
    }
   ],
   "source": [
    "# Display the number of unique labels present in y_train\n",
    "all_labels_train = []\n",
    "for labels in y_train:\n",
    "    all_labels_train.extend(labels)\n",
    "\n",
    "unique_labels_train = set(all_labels_train)\n",
    "print(f\"Number of unique labels in y_train: {len(unique_labels_train)}\")\n",
    "print(f\"Unique labels: {sorted(unique_labels_train)}\")\n",
    "\n",
    "# Count frequency of each label\n",
    "label_counts = Counter(all_labels_train)\n",
    "print(f\"\\nLabel distribution in y_train:\")\n",
    "for label, count in label_counts.most_common():\n",
    "    print(f\"  {label}: {count}\")"
   ]
  },
  {
   "cell_type": "markdown",
   "metadata": {
    "id": "QFm46QrB4gmj"
   },
   "source": [
    "## **4** Exploratory Recipe Data Analysis on Training Dataset <font color = red>[16 marks]</font> <br>"
   ]
  },
  {
   "cell_type": "markdown",
   "metadata": {
    "id": "KUWIp0n_NeH6"
   },
   "source": [
    "#### **4.1** *Flatten the lists for input_tokens & pos_tokens* <font color = red>[2 marks]</font> <br>\n",
    "\n",
    "Define a function **flatten_list** for flattening the structure for input_tokens and pos_tokens. The input parameter passed to this function is a nested list.\n",
    "\n",
    "Initialise the dataset_name with a value ***'Training'***\n",
    "\n",
    "\n"
   ]
  },
  {
   "cell_type": "code",
   "execution_count": 25,
   "metadata": {
    "id": "WzcY0gPiOe8o"
   },
   "outputs": [],
   "source": [
    "# flatten the list for nested_list (input_tokens, pos_tokens)\n",
    "def flatten_list(nested_list):\n",
    "    \"\"\"\n",
    "    Flatten a nested list structure into a single flat list\n",
    "\n",
    "    Parameters:\n",
    "    nested_list (list): A nested list structure\n",
    "\n",
    "    Returns:\n",
    "    list: A flattened list containing all elements from the nested structure\n",
    "    \"\"\"\n",
    "    flattened = []\n",
    "    for item in nested_list:\n",
    "        if isinstance(item, list):\n",
    "            flattened.extend(item)\n",
    "        else:\n",
    "            flattened.append(item)\n",
    "    return flattened"
   ]
  },
  {
   "cell_type": "code",
   "execution_count": 26,
   "metadata": {
    "id": "B1fdMjzohxRn"
   },
   "outputs": [],
   "source": [
    "# initialise the dataset_name\n",
    "dataset_name = 'Training'"
   ]
  },
  {
   "cell_type": "markdown",
   "metadata": {
    "id": "eGOqhd8OOr1E"
   },
   "source": [
    "#### **4.2** *Extract and validate the tokens after using the flattening technique* <font color = red>[2 marks]</font> <br>\n",
    "\n",
    "Define a function named ***extract_and_validate_tokens*** with parameters dataframe and dataset_name (Training/Validation), validate the length of input_tokens and pos_tokens from dataframe and display first 10 records for both the input_tokens and pos_tokens. Execute this function\n",
    "\n",
    "\n"
   ]
  },
  {
   "cell_type": "code",
   "execution_count": 27,
   "metadata": {
    "id": "H3GMX83xP7ja"
   },
   "outputs": [],
   "source": [
    "# define a extract_and_validate_tokens with parameters (df, dataset_name)\n",
    "# call the flatten_list and apply it on input_tokens and pos_tokens\n",
    "def extract_and_validate_tokens(df, dataset_name):\n",
    "    \"\"\"\n",
    "    Extract and validate tokens from dataframe\n",
    "\n",
    "    Parameters:\n",
    "    df (pd.DataFrame): DataFrame containing input_tokens and pos_tokens\n",
    "    dataset_name (str): Name of the dataset (Training/Validation)\n",
    "\n",
    "    Returns:\n",
    "    tuple: Flattened input tokens and pos tokens\n",
    "    \"\"\"\n",
    "    # Flatten the input_tokens and pos_tokens using the flatten_list function\n",
    "    input_tokens_flat = flatten_list(df['input_tokens'].tolist())\n",
    "    pos_tokens_flat = flatten_list(df['pos_tokens'].tolist())\n",
    "\n",
    "    # Validate their length\n",
    "    print(f\"=== {dataset_name} Dataset Token Validation ===\")\n",
    "    print(f\"Total input tokens: {len(input_tokens_flat)}\")\n",
    "    print(f\"Total POS tokens: {len(pos_tokens_flat)}\")\n",
    "    print(f\"Lengths match: {len(input_tokens_flat) == len(pos_tokens_flat)}\")\n",
    "\n",
    "    # Display first 10 records\n",
    "    print(f\"\\nFirst 10 input tokens: {input_tokens_flat[:10]}\")\n",
    "    print(f\"First 10 POS tokens: {pos_tokens_flat[:10]}\")\n",
    "\n",
    "    return input_tokens_flat, pos_tokens_flat\n",
    "\n"
   ]
  },
  {
   "cell_type": "code",
   "execution_count": 28,
   "metadata": {
    "colab": {
     "base_uri": "https://localhost:8080/"
    },
    "id": "ajdbYMgeLpf9",
    "outputId": "19b62675-bc83-42ab-a108-95aa47385a64"
   },
   "outputs": [
    {
     "name": "stdout",
     "output_type": "stream",
     "text": [
      "=== Training Dataset Token Validation ===\n",
      "Total input tokens: 7114\n",
      "Total POS tokens: 7114\n",
      "Lengths match: True\n",
      "\n",
      "First 10 input tokens: ['250', 'grams', 'Okra', 'Oil', '1', 'Onion', 'finely', 'chopped', 'Tomato', 'Grated']\n",
      "First 10 POS tokens: ['quantity', 'unit', 'ingredient', 'ingredient', 'quantity', 'ingredient', 'ingredient', 'ingredient', 'ingredient', 'ingredient']\n",
      "\n",
      "\n",
      "----------------------------------------------------------------------------------------------------------------------------------------------------------------\n",
      "\n",
      "\n",
      "=== Validation Dataset Token Validation ===\n",
      "Total input tokens: 2876\n",
      "Total POS tokens: 2876\n",
      "Lengths match: True\n",
      "\n",
      "First 10 input tokens: ['1', 'cup', 'Ada', '2', 'liter', 'Milk', '3/4', 'Sugar', 'tablespoon', 'Ghee']\n",
      "First 10 POS tokens: ['quantity', 'unit', 'ingredient', 'quantity', 'unit', 'ingredient', 'quantity', 'ingredient', 'unit', 'ingredient']\n"
     ]
    }
   ],
   "source": [
    "# extract the tokens and its pos tags\n",
    "#train_df\n",
    "input_tokens_flat_train, pos_tokens_flat_train = extract_and_validate_tokens(train_df, 'Training')\n",
    "\n",
    "print(\"\\n\")  # Print a newline for better readability\n",
    "print(\"--\" * 80)  # Separator for clarity\n",
    "print(\"\\n\")  # Print a newline for better readability\n",
    "#val_df\n",
    "input_tokens_flat_val, pos_tokens_flat_val = extract_and_validate_tokens(val_df, 'Validation')"
   ]
  },
  {
   "cell_type": "markdown",
   "metadata": {
    "id": "htZVn5wcQSok"
   },
   "source": [
    "#### **4.3** *Categorise tokens into labels (unit, ingredient, quantity)* <font color = red>[2 marks]</font> <br>\n",
    "\n",
    "Define a function ***categorize_tokens*** to categorise tokens into ingredients, units and quantities by using extracted tokens in the previous code and return a list of ingredients, units and quantities. Execute this function to get the list.\n",
    "\n"
   ]
  },
  {
   "cell_type": "code",
   "execution_count": 29,
   "metadata": {
    "id": "7xq0a4L7Quct"
   },
   "outputs": [],
   "source": [
    "# define a categorize_tokens function and provide the tokens and pos_tags as parameters and create ingredient, unit and quantity list and return it\n",
    "def categorize_tokens(tokens, pos_tags):\n",
    "    \"\"\"\n",
    "    Categorize tokens into ingredients, units and quantities based on their POS tags\n",
    "\n",
    "    Parameters:\n",
    "    tokens (list): List of input tokens\n",
    "    pos_tags (list): List of corresponding POS tags\n",
    "\n",
    "    Returns:\n",
    "    tuple: Three lists (ingredients, units, quantities)\n",
    "    \"\"\"\n",
    "    # Validate input lengths\n",
    "    if len(tokens) != len(pos_tags):\n",
    "        print(f\"Warning: Length mismatch - tokens: {len(tokens)}, pos_tags: {len(pos_tags)}\")\n",
    "        return [], [], []\n",
    "\n",
    "    # Initialize lists\n",
    "    ingredients = []\n",
    "    units = []\n",
    "    quantities = []\n",
    "\n",
    "    # Categorize tokens based on their POS tags\n",
    "    for token, pos_tag in zip(tokens, pos_tags):\n",
    "        if pos_tag == 'ingredient':\n",
    "            ingredients.append(token)\n",
    "        elif pos_tag == 'unit':\n",
    "            units.append(token)\n",
    "        elif pos_tag == 'quantity':\n",
    "            quantities.append(token)\n",
    "        else:\n",
    "            print(f\"Warning: Unknown POS tag '{pos_tag}' for token '{token}'\")\n",
    "\n",
    "    # Validate that we only have expected labels\n",
    "    expected_labels = {'ingredient', 'unit', 'quantity'}\n",
    "    found_labels = set(pos_tags)\n",
    "\n",
    "    if not found_labels.issubset(expected_labels):\n",
    "        unexpected_labels = found_labels - expected_labels\n",
    "        print(f\"Warning: Found unexpected labels: {unexpected_labels}\")\n",
    "        return [], [], []\n",
    "\n",
    "    return ingredients, units, quantities\n",
    "\n",
    "\n"
   ]
  },
  {
   "cell_type": "code",
   "execution_count": 30,
   "metadata": {
    "colab": {
     "base_uri": "https://localhost:8080/"
    },
    "id": "evcsigvUL7bM",
    "outputId": "2d885a82-6848-45df-cf60-e0dc195cbab2"
   },
   "outputs": [
    {
     "name": "stdout",
     "output_type": "stream",
     "text": [
      "Training dataset categorization:\n",
      "Number of ingredients: 5323\n",
      "Number of units: 811\n",
      "Number of quantities: 980\n",
      "\n",
      "First 10 ingredients: ['Okra', 'Oil', 'Onion', 'finely', 'chopped', 'Tomato', 'Grated', 'Ginger', 'Garlic', 'Finely']\n",
      "First 10 units: ['grams', 'teaspoon', 'Teaspoon', 'cup', 'grams', 'tablespoon', 'teaspoon', 'grams', 'teaspoon', 'sprig']\n",
      "First 10 quantities: ['250', '1', '2', '1/2', '1/4', '200', '2', '1', '1/2', '500']\n"
     ]
    }
   ],
   "source": [
    "#  call the function to categorise the labels into respective list\n",
    "ingredients_train, units_train, quantities_train = categorize_tokens(input_tokens_flat_train, pos_tokens_flat_train)\n",
    "\n",
    "print(f\"Training dataset categorization:\")\n",
    "print(f\"Number of ingredients: {len(ingredients_train)}\")\n",
    "print(f\"Number of units: {len(units_train)}\")\n",
    "print(f\"Number of quantities: {len(quantities_train)}\")\n",
    "\n",
    "print(f\"\\nFirst 10 ingredients: {ingredients_train[:10]}\")\n",
    "print(f\"First 10 units: {units_train[:10]}\")\n",
    "print(f\"First 10 quantities: {quantities_train[:10]}\")\n"
   ]
  },
  {
   "cell_type": "markdown",
   "metadata": {
    "id": "QSGau4EgZCix"
   },
   "source": [
    "#### **4.4** *Top 10 Most Frequent Items* <font color = red>[3 marks]</font> <br>\n",
    "\n",
    "Define a function ***get_top_frequent_items*** to display top 10 most frequent items\n",
    "\n",
    "Here, item_list is used as a general parameter where you will call this function for ingredient and unit list\n",
    "\n",
    "Execute this function separately for top 10 most units and ingredients\n",
    "\n"
   ]
  },
  {
   "cell_type": "code",
   "execution_count": 31,
   "metadata": {
    "id": "kXc8h3H4ZOZ4"
   },
   "outputs": [],
   "source": [
    "# define a function get_top_frequent_items to get the top frequent items by using item_list, pos label and dataset_name(Training/Validation) and return top items\n",
    "def get_top_frequent_items(item_list, label, dataset_name, top_n=10):\n",
    "    \"\"\"\n",
    "    Get top N most frequent items from a list\n",
    "\n",
    "    Parameters:\n",
    "    item_list (list): List of items to analyze\n",
    "    label (str): Label for the type of items (e.g., 'ingredient', 'unit', 'quantity')\n",
    "    dataset_name (str): Name of the dataset (Training/Validation)\n",
    "    top_n (int): Number of top items to return (default: 10)\n",
    "\n",
    "    Returns:\n",
    "    list: List of tuples containing (item, frequency) for top N items\n",
    "    \"\"\"\n",
    "    # Count frequency of each item\n",
    "    item_counts = Counter(item_list)\n",
    "\n",
    "    # Get top N most frequent items\n",
    "    top_items = item_counts.most_common(top_n)\n",
    "\n",
    "    print(f\"=== Top {top_n} Most Frequent {label.title()}s in {dataset_name} Dataset ===\")\n",
    "    print(f\"Total unique {label}s: {len(item_counts)}\")\n",
    "    print(f\"Total {label} occurrences: {sum(item_counts.values())}\")\n",
    "    print()\n",
    "\n",
    "    for i, (item, count) in enumerate(top_items, 1):\n",
    "        print(f\"{i:2d}. {item:<20} : {count:4d} occurrences\")\n",
    "\n",
    "    return top_items"
   ]
  },
  {
   "cell_type": "code",
   "execution_count": 32,
   "metadata": {
    "colab": {
     "base_uri": "https://localhost:8080/"
    },
    "id": "W2jZCCf2MEke",
    "outputId": "5840e7f6-5c7c-4190-f45e-c70c1b2b0152"
   },
   "outputs": [
    {
     "name": "stdout",
     "output_type": "stream",
     "text": [
      "=== Top 10 Most Frequent Ingredients in Training Dataset ===\n",
      "Total unique ingredients: 836\n",
      "Total ingredient occurrences: 5323\n",
      "\n",
      " 1. powder               :  129 occurrences\n",
      " 2. Salt                 :  102 occurrences\n",
      " 3. seeds                :   89 occurrences\n",
      " 4. Green                :   85 occurrences\n",
      " 5. chopped              :   84 occurrences\n",
      " 6. Oil                  :   83 occurrences\n",
      " 7. Red                  :   81 occurrences\n",
      " 8. Chilli               :   77 occurrences\n",
      " 9. Coriander            :   71 occurrences\n",
      "10. Sunflower            :   65 occurrences\n"
     ]
    }
   ],
   "source": [
    "# get the top ingredients which are frequently seen in the recipe\n",
    "top_ingredients_train = get_top_frequent_items(ingredients_train, 'ingredient', dataset_name)"
   ]
  },
  {
   "cell_type": "code",
   "execution_count": 33,
   "metadata": {
    "colab": {
     "base_uri": "https://localhost:8080/"
    },
    "id": "wipghGXAMYQR",
    "outputId": "9d077c05-96a7-47df-ac02-a3b5eff3154b"
   },
   "outputs": [
    {
     "name": "stdout",
     "output_type": "stream",
     "text": [
      "=== Top 10 Most Frequent Units in Training Dataset ===\n",
      "Total unique units: 45\n",
      "Total unit occurrences: 811\n",
      "\n",
      " 1. teaspoon             :  162 occurrences\n",
      " 2. cup                  :  136 occurrences\n",
      " 3. tablespoon           :   99 occurrences\n",
      " 4. grams                :   63 occurrences\n",
      " 5. tablespoons          :   61 occurrences\n",
      " 6. inch                 :   52 occurrences\n",
      " 7. cups                 :   50 occurrences\n",
      " 8. sprig                :   41 occurrences\n",
      " 9. cloves               :   39 occurrences\n",
      "10. teaspoons            :   39 occurrences\n"
     ]
    }
   ],
   "source": [
    "# get the top units which are frequently seen in the recipe\n",
    "top_units_train = get_top_frequent_items(units_train, 'unit', dataset_name)"
   ]
  },
  {
   "cell_type": "markdown",
   "metadata": {
    "id": "9hldpjOHaPVZ"
   },
   "source": [
    "#### **4.5** *Plot Top 10 most frequent items* <font color = red>[2 marks]</font> <br>\n",
    "\n",
    "\n"
   ]
  },
  {
   "cell_type": "markdown",
   "metadata": {
    "id": "9ImpWstybDP_"
   },
   "source": [
    "Define a function ***plot_top_items*** to plot a bar graph on top 10 most frequent items for units and ingredients\n",
    "\n",
    "Here, item_list is used as a general parameter where you will call this function for ingredient and unit list"
   ]
  },
  {
   "cell_type": "code",
   "execution_count": 34,
   "metadata": {
    "id": "Gmsq0L1vaxfc"
   },
   "outputs": [],
   "source": [
    "# define plot top items with parameters - top_item list, label to suggest whether its ingredient or unit, dataset_name\n",
    "def plot_top_items(top_items, label, dataset_name):\n",
    "    \"\"\"\n",
    "    Plot a bar graph for top 10 most frequent items\n",
    "\n",
    "    Parameters:\n",
    "    top_items (list): List of tuples containing (item, frequency) for top items\n",
    "    label (str): Label for the type of items (e.g., 'ingredient', 'unit')\n",
    "    dataset_name (str): Name of the dataset (Training/Validation)\n",
    "\n",
    "    Returns:\n",
    "    None\n",
    "    \"\"\"\n",
    "    # Extract items and frequencies\n",
    "    items = [item[0] for item in top_items]\n",
    "    frequencies = [item[1] for item in top_items]\n",
    "\n",
    "    # Create the plot\n",
    "    plt.figure(figsize=(12, 6))\n",
    "    bars = plt.bar(items, frequencies, color='Purple', edgecolor='Green', alpha=0.7)\n",
    "\n",
    "    # Customize the plot\n",
    "    plt.title(f'Top 10 Most Frequent {label.title()}s in {dataset_name} Dataset',\n",
    "              fontsize=16, fontweight='bold', pad=20)\n",
    "    plt.xlabel(f'{label.title()}s', fontsize=12, fontweight='bold')\n",
    "    plt.ylabel('Frequency', fontsize=12, fontweight='bold')\n",
    "\n",
    "    # Rotate x-axis labels for better readability\n",
    "    plt.xticks(rotation=45, ha='right')\n",
    "\n",
    "    # Add value labels on top of bars\n",
    "    for bar, freq in zip(bars, frequencies):\n",
    "        plt.text(bar.get_x() + bar.get_width()/2., bar.get_height() + 1,\n",
    "                f'{freq}', ha='center', va='bottom', fontweight='bold')\n",
    "\n",
    "    # Add grid for better readability\n",
    "    plt.grid(axis='y', alpha=0.3, linestyle='--')\n",
    "\n",
    "    # Adjust layout to prevent label cutoff\n",
    "    plt.tight_layout()\n",
    "\n",
    "    # Display the plot\n",
    "    plt.show()"
   ]
  },
  {
   "cell_type": "markdown",
   "metadata": {
    "id": "rHusCfkJ4suh"
   },
   "source": [
    "#### **4.6** *Perform EDA analysis* <font color = red>[5 marks]</font> <br>\n",
    "\n",
    "Plot the bar plots for ingredients and units and provide the insights for training dataset\n",
    "\n",
    "---\n",
    "\n"
   ]
  },
  {
   "cell_type": "code",
   "execution_count": 35,
   "metadata": {
    "colab": {
     "base_uri": "https://localhost:8080/",
     "height": 607
    },
    "id": "8seIqFKyYFmn",
    "outputId": "fcec1681-a968-41e7-a97f-604dc3e8e639"
   },
   "outputs": [
    {
     "data": {
      "image/png": "[encoded data removed]",
      "text/plain": [
       "<Figure size 1200x600 with 1 Axes>"
      ]
     },
     "metadata": {},
     "output_type": "display_data"
    }
   ],
   "source": [
    "# plot the top frequent ingredients in training data\n",
    "plot_top_items(top_ingredients_train, 'ingredient', dataset_name)"
   ]
  },
  {
   "cell_type": "code",
   "execution_count": 36,
   "metadata": {
    "colab": {
     "base_uri": "https://localhost:8080/",
     "height": 607
    },
    "id": "fbXAwiUkMtqT",
    "outputId": "959b7f16-1149-4c17-eb0a-aea165c55e04"
   },
   "outputs": [
    {
     "data": {
      "image/png": "[encoded data removed]",
      "text/plain": [
       "<Figure size 1200x600 with 1 Axes>"
      ]
     },
     "metadata": {},
     "output_type": "display_data"
    }
   ],
   "source": [
    "# plot the top frequent units in training data\n",
    "plot_top_items(top_units_train, 'unit', dataset_name)"
   ]
  },
  {
   "cell_type": "markdown",
   "metadata": {
    "id": "vYh7zbJpCajJ"
   },
   "source": [
    "## **5** Exploratory Recipe Data Analysis on Validation Dataset (Optional)<font color = red> [0 marks]</font> <br>"
   ]
  },
  {
   "cell_type": "markdown",
   "metadata": {
    "id": "K2wPIaOGCmk2"
   },
   "source": [
    "#### **5.1** *Execute EDA on Validation Dataset with insights (Optional)* <font color = red> [0 marks]</font> <br>\n",
    "Initialise the dataset_name as ***Validation*** and call the ***plot_top_items*** for top 10 ingredients and units in the recipe data\n",
    "Provide the insights for the same.\n",
    "\n"
   ]
  },
  {
   "cell_type": "code",
   "execution_count": 37,
   "metadata": {
    "id": "atSk0ChLPXHd"
   },
   "outputs": [],
   "source": [
    "# initialise the dataset_name\n"
   ]
  },
  {
   "cell_type": "code",
   "execution_count": 38,
   "metadata": {
    "id": "AFPxheIuj1o8"
   },
   "outputs": [],
   "source": [
    "# use extract and validate tokens, categorise tokens, get top frequent items for ingredient list and unit list on validation dataframe\n"
   ]
  },
  {
   "cell_type": "code",
   "execution_count": 39,
   "metadata": {
    "id": "ikwox7ccMaU8"
   },
   "outputs": [],
   "source": [
    "# plot the top frequent ingredients in validation data\n"
   ]
  },
  {
   "cell_type": "code",
   "execution_count": 40,
   "metadata": {
    "id": "9QjVeMWpPwKO"
   },
   "outputs": [],
   "source": [
    "# plot the top frequent units in training data\n",
    "\n"
   ]
  },
  {
   "cell_type": "markdown",
   "metadata": {
    "id": "IvE92ait9GIS"
   },
   "source": [
    "## **6** Feature Extraction For CRF Model <font color = red>[30 marks]</font> <br>"
   ]
  },
  {
   "cell_type": "markdown",
   "metadata": {
    "id": "Gc5Q_Lj09GIT"
   },
   "source": [
    "### **6.1** *Define a feature functions to take each token from recipe* <font color = red>[10 marks]</font>\n",
    "\n",
    "Define a function as ***word2features*** which takes a particular recipe and its index to work with all recipe input tokens and include custom key-value pairs.\n",
    "\n",
    "Also, use feature key-value pairs to mark the beginning and end of the sequence and to also check whether the word belongs to unit, quantity etc. Use keyword sets for unit and quantity for differentiating feature functions well. Also make use of relevant regex patterns on fractions, whole numbers etc."
   ]
  },
  {
   "cell_type": "markdown",
   "metadata": {
    "id": "pyxmQ0PrhBra"
   },
   "source": [
    "##### **6.1.1** **Define keywords for unit and quantity and create a quantity pattern to work on fractions, numbers and decimals** <font color = red>[3 marks]</font> <br>\n",
    "\n",
    "Create sets for **unit_keywords** and ***quantity_keywords*** and include all the words relevant for measuring the ingredients such as cup, tbsp, tsp etc. and in quantity keywords, include words such as half, quarter etc.\n",
    "\n",
    "Also suggested to use regex pattern as ***quantity_pattern*** to work with quantity in any format such as fractions, numbers and decimals.\n",
    "\n",
    "Then, load the spacy model and process the entire sentence"
   ]
  },
  {
   "cell_type": "code",
   "execution_count": 41,
   "metadata": {
    "colab": {
     "base_uri": "https://localhost:8080/"
    },
    "id": "GhFUPxeth0KI",
    "outputId": "a2eca173-8708-46db-837f-b60fcf3b1a27"
   },
   "outputs": [
    {
     "name": "stdout",
     "output_type": "stream",
     "text": [
      "Unit keywords defined: 89 units\n",
      "Quantity keywords defined: 40 keywords\n",
      "Quantity pattern created for fractions, decimals, and numbers\n"
     ]
    }
   ],
   "source": [
    "\n",
    "# define unit and quantity keywords along with quantity pattern\n",
    "\n",
    "# Unit keywords - common measurement units\n",
    "unit_keywords = {\n",
    "    'cup', 'cups', 'tablespoon', 'tablespoons', 'tbsp', 'teaspoon', 'teaspoons', 'tsp',\n",
    "    'gram', 'grams', 'gm', 'gms', 'kg', 'kilogram', 'kilograms', 'pound', 'pounds', 'lb', 'lbs',\n",
    "    'ounce', 'ounces', 'oz', 'liter', 'liters', 'litre', 'litres', 'ml', 'milliliter', 'milliliters',\n",
    "    'pint', 'pints', 'quart', 'quarts', 'gallon', 'gallons', 'inch', 'inches', 'cm', 'centimeter',\n",
    "    'piece', 'pieces', 'slice', 'slices', 'clove', 'cloves', 'bunch', 'bunches', 'sprig', 'sprigs',\n",
    "    'pinch', 'pinches', 'dash', 'dashes', 'drop', 'drops', 'handful', 'handfuls', 'stick', 'sticks',\n",
    "    'can', 'cans', 'jar', 'jars', 'bottle', 'bottles', 'pack', 'packs', 'packet', 'packets',\n",
    "    'bowl', 'bowls', 'plate', 'plates', 'glass', 'glasses', 'mug', 'mugs', 'scoop', 'scoops',\n",
    "    'unit', 'units', 'whole', 'halves', 'quarters', 'thirds', 'pod', 'pods', 'leaf', 'leaves'\n",
    "}\n",
    "\n",
    "# Quantity keywords - quantity descriptors\n",
    "quantity_keywords = {\n",
    "    'half', 'quarter', 'third', 'one', 'two', 'three', 'four', 'five', 'six', 'seven', 'eight',\n",
    "    'nine', 'ten', 'dozen', 'few', 'some', 'little', 'small', 'medium', 'large', 'big', 'tiny',\n",
    "    'handful', 'pinch', 'dash', 'splash', 'drizzle', 'generous', 'heaping', 'level', 'rounded',\n",
    "    'packed', 'loose', 'fresh', 'dried', 'ground', 'whole', 'chopped', 'sliced', 'diced'\n",
    "}\n",
    "\n",
    "# Regex pattern for quantity - matches fractions, decimals, whole numbers, and ranges\n",
    "quantity_pattern = re.compile(r'''\n",
    "    \\b(?:\n",
    "        \\d+(?:[/-]\\d+)*(?:\\.\\d+)?  |  # Fractions like 1/2, 2-1/2, decimals like 3.5\n",
    "        \\d+\\.\\d+                   |  # Decimal numbers like 2.5, 1.25\n",
    "        \\d+                        |  # Whole numbers like 1, 10, 250\n",
    "        \\d+-\\d+                       # Ranges like 8-10, 3-4\n",
    "    )\\b\n",
    "''', re.VERBOSE)\n",
    "\n",
    "print(\"Unit keywords defined:\", len(unit_keywords), \"units\")\n",
    "print(\"Quantity keywords defined:\", len(quantity_keywords), \"keywords\")\n",
    "print(\"Quantity pattern created for fractions, decimals, and numbers\")\n",
    "\n"
   ]
  },
  {
   "cell_type": "code",
   "execution_count": 42,
   "metadata": {
    "colab": {
     "base_uri": "https://localhost:8080/"
    },
    "id": "9qmM8rw4VtJh",
    "outputId": "aa0f6224-b84e-4637-a818-8fa8b99e89f0"
   },
   "outputs": [
    {
     "name": "stdout",
     "output_type": "stream",
     "text": [
      "spaCy model loaded successfully\n",
      "Model name: core_web_sm\n",
      "Model version: 3.5.0\n"
     ]
    }
   ],
   "source": [
    "# load spaCy model\n",
    "nlp = spacy.load('en_core_web_sm')\n",
    "\n",
    "print(\"spaCy model loaded successfully\")\n",
    "print(f\"Model name: {nlp.meta['name']}\")\n",
    "print(f\"Model version: {nlp.meta['version']}\")"
   ]
  },
  {
   "cell_type": "code",
   "execution_count": 43,
   "metadata": {
    "colab": {
     "base_uri": "https://localhost:8080/"
    },
    "id": "88KhFK39bCVS",
    "outputId": "d6489b9d-587d-4d10-daf5-c93a5e548794"
   },
   "outputs": [
    {
     "name": "stdout",
     "output_type": "stream",
     "text": [
      "Add          | Quantity: 0     | Unit: False\n",
      "1            | Quantity: 1     | Unit: False\n",
      "1/2          | Quantity: 1     | Unit: False\n",
      "cups         | Quantity: 0     | Unit: True\n",
      "of           | Quantity: 0     | Unit: False\n",
      "flour        | Quantity: 0     | Unit: False\n",
      "and          | Quantity: 0     | Unit: False\n",
      "2            | Quantity: 1     | Unit: False\n",
      "tablespoons  | Quantity: 0     | Unit: True\n",
      "sugar        | Quantity: 0     | Unit: False\n",
      ".            | Quantity: 0     | Unit: False\n"
     ]
    }
   ],
   "source": [
    "sentence = \"Add 1 1/2 cups of flour and 2 tablespoons sugar.\"\n",
    "doc = nlp(sentence)\n",
    "\n",
    "for token in doc:\n",
    "    token_lower = token.text.lower()\n",
    "    is_quantity = bool(quantity_pattern.fullmatch(token.text)) or token_lower in quantity_keywords\n",
    "    is_unit = token_lower in unit_keywords\n",
    "    print(f\"{token.text:<12} | Quantity: {is_quantity:<5} | Unit: {is_unit}\")\n",
    "\n"
   ]
  },
  {
   "cell_type": "markdown",
   "metadata": {
    "id": "vrYD5tMNiFc-"
   },
   "source": [
    "##### **6.1.2** **Define feature functions for CRF** <font color = red>[7 marks]</font> <br>\n",
    "\n",
    "Define ***word2features*** function and use the parameters such as sentence and its indexing as ***sent*** and ***i*** for extracting token level features for CRF Training.\n",
    "Build ***features*** dictionary, also mark the beginning and end of the sequence and use the ***unit_keywords***, ***quantity_keywords*** and ***quantity_pattern*** for knowing the presence of quantity or unit in the tokens"
   ]
  },
  {
   "cell_type": "markdown",
   "metadata": {
    "id": "yAjf6j-dQtpr"
   },
   "source": [
    "While building ***features*** dictionary, include\n",
    "- ***Core Features*** - The core features of a token should capture its lexical\n",
    "and grammatical properties. Include attributes like the raw token, its lemma, part-of-speech tag, dependency relation, and shape, as well as indicators for whether it's a stop word, digit, or punctuation. The details of the features are given below:\n",
    "\n",
    "    - `bias` - Constant feature with a fixed value of 1.0 to aid model learning.\n",
    "    - `token` - The lowercase form of the current token.\n",
    "    - `lemma` - The lowercase lemma (base form) of the token.\n",
    "    - `pos_tag` - Part-of-speech (POS) tag of the token.\n",
    "    - `tag` - Detailed POS tag of the token.\n",
    "    - `dep` - Dependency relation of the token in the sentence.\n",
    "    - `shape` - Shape of the token (e.g., \"Xxx\" for \"Milk\").\n",
    "    - `is_stop` - Boolean indicating if the token is a stopword.\n",
    "    - `is_digit` - Boolean indicating if the token consists of only digits.\n",
    "    - `has_digit` - Boolean indicating if the token contains at least one digit.\n",
    "    - `has_alpha` - Boolean indicating if the token contains at least one alphabetic character.\n",
    "    - `hyphenated` - Boolean indicating if the token contains a hyphen (-).\n",
    "    - `slash_present` - Boolean indicating if the token contains a slash (/).\n",
    "    - `is_title` - Boolean indicating if the token starts with an uppercase letter.\n",
    "    - `is_upper` - Boolean indicating if the token is fully uppercase.\n",
    "    - `is_punct` - Boolean indicating if the token is a punctuation mark.\n",
    "\n",
    "- ***Improved Quantity and Unit Detection*** - Use key-value pairs to mark the presence of quantities and units in the features dictionary. Utilise the unit_keywords, quantity_keywords, and quantity_pattern to identify and flag these elements. The details of the features are given below:\n",
    "\n",
    "    - `is_quantity` - Boolean indicating if the token matches a quantity pattern or keyword.\n",
    "    - `is_unit` - Boolean indicating if the token is a known measurement unit.\n",
    "    - `is_numeric` - Boolean indicating if the token matches a numeric pattern.\n",
    "    - `is_fraction` - Boolean indicating if the token represents a fraction (e.g., 1/2).\n",
    "    - `is_decimal` - Boolean indicating if the token represents a decimal number (e.g., 3.14).\n",
    "    - `preceding_word` - The previous token in the sentence, if available.\n",
    "    - `following_word` - The next token in the sentence, if available.\n",
    "\n",
    "- ***Contextual Features*** - Incorporate contextual information by adding features for the preceding and following tokens. Include indicators like BOS and EOS to mark the beginning and end of the sequence, and utilise unit_keywords, quantity_keywords, and quantity_pattern to identify the types of neighboring tokens. The features are given below:\n",
    "\n",
    "    - `prev_token` - The lowercase form of the previous token.\n",
    "    - `prev_is_quantity` - Boolean indicating if the previous token is a quantity.\n",
    "    - `prev_is_digit` - Boolean indicating if the previous token is a digit.\n",
    "    - `BOS` - Boolean indicating if the token is at the beginning of the sentence.\n",
    "    - `next_token` - The lowercase form of the next token.\n",
    "    - `next_is_unit` - Boolean indicating if the next token is a unit.\n",
    "    - `next_is_ingredient` - Boolean indicating if the next token is not a unit or quantity.\n",
    "    - `EOS` - Boolean indicating if the token is at the end of the sentence.\n",
    "\n"
   ]
  },
  {
   "cell_type": "code",
   "execution_count": 44,
   "metadata": {
    "id": "pRU7efTF9GIW"
   },
   "outputs": [],
   "source": [
    "def word2features(sent, i):\n",
    "    \"\"\"\n",
    "    Extract features for a single token in a sentence\n",
    "\n",
    "    Parameters:\n",
    "    sent (list): List of tokens in the sentence\n",
    "    i (int): Index of the current token\n",
    "\n",
    "    Returns:\n",
    "    dict: Dictionary of features for the token\n",
    "    \"\"\"\n",
    "    # Process the entire sentence with spaCy\n",
    "    doc = nlp(' '.join(sent))\n",
    "\n",
    "    # Get the current token\n",
    "    token = sent[i]\n",
    "    spacy_token = doc[i] if i < len(doc) else None\n",
    "\n",
    "    # Initialize features dictionary\n",
    "    features = {}\n",
    "\n",
    "    # --- Core Features ---\n",
    "    features['bias'] = 1.0\n",
    "    features['token'] = token.lower()\n",
    "    features['lemma'] = spacy_token.lemma_.lower() if spacy_token else token.lower()\n",
    "    features['pos_tag'] = spacy_token.pos_ if spacy_token else 'UNKNOWN'\n",
    "    features['tag'] = spacy_token.tag_ if spacy_token else 'UNKNOWN'\n",
    "    features['dep'] = spacy_token.dep_ if spacy_token else 'UNKNOWN'\n",
    "    features['shape'] = spacy_token.shape_ if spacy_token else token\n",
    "    features['is_stop'] = spacy_token.is_stop if spacy_token else False\n",
    "    features['is_digit'] = token.isdigit()\n",
    "    features['has_digit'] = bool(re.search(r'\\d', token))\n",
    "    features['has_alpha'] = bool(re.search(r'[a-zA-Z]', token))\n",
    "    features['hyphenated'] = '-' in token\n",
    "    features['slash_present'] = '/' in token\n",
    "    features['is_title'] = token.istitle()\n",
    "    features['is_upper'] = token.isupper()\n",
    "    features['is_punct'] = spacy_token.is_punct if spacy_token else False\n",
    "\n",
    "    # --- Improved Quantity & Unit Detection ---\n",
    "    features['is_quantity'] = bool(quantity_pattern.match(token)) or token.lower() in quantity_keywords\n",
    "    features['is_unit'] = token.lower() in unit_keywords\n",
    "    features['is_numeric'] = bool(re.match(r'^\\d+$', token))\n",
    "    features['is_fraction'] = bool(re.match(r'^\\d+[/-]\\d+', token))\n",
    "    features['is_decimal'] = bool(re.match(r'^\\d*\\.\\d+$', token))\n",
    "    features['preceding_word'] = sent[i-1] if i > 0 else '<BOS>'\n",
    "    features['following_word'] = sent[i+1] if i < len(sent)-1 else '<EOS>'\n",
    "\n",
    "    # --- Contextual Features ---\n",
    "    if i > 0:\n",
    "        prev_token = sent[i-1]\n",
    "        features['prev_token'] = prev_token.lower()\n",
    "        features['prev_is_quantity'] = bool(quantity_pattern.match(prev_token)) or prev_token.lower() in quantity_keywords\n",
    "        features['prev_is_digit'] = prev_token.isdigit()\n",
    "        features['BOS'] = False\n",
    "    else:\n",
    "        features['prev_token'] = '<BOS>'\n",
    "        features['prev_is_quantity'] = False\n",
    "        features['prev_is_digit'] = False\n",
    "        features['BOS'] = True\n",
    "\n",
    "    if i < len(sent) - 1:\n",
    "        next_token = sent[i+1]\n",
    "        features['next_token'] = next_token.lower()\n",
    "        features['next_is_unit'] = next_token.lower() in unit_keywords\n",
    "        features['next_is_ingredient'] = not (next_token.lower() in unit_keywords or\n",
    "                                            bool(quantity_pattern.match(next_token)) or\n",
    "                                            next_token.lower() in quantity_keywords)\n",
    "        features['EOS'] = False\n",
    "    else:\n",
    "        features['next_token'] = '<EOS>'\n",
    "        features['next_is_unit'] = False\n",
    "        features['next_is_ingredient'] = False\n",
    "        features['EOS'] = True\n",
    "\n",
    "    return features\n"
   ]
  },
  {
   "cell_type": "markdown",
   "metadata": {
    "id": "hJm2nUw0998s"
   },
   "source": [
    "### **6.2** *Preparation of Recipe level features* <font color = red>[2 marks]</font>\n"
   ]
  },
  {
   "cell_type": "markdown",
   "metadata": {
    "id": "KL19ooQejA5z"
   },
   "source": [
    "##### **6.2.1** **Define function to work on all the recipes and call word2features for each recipe** <font color = red>[2 marks]</font> <br>\n",
    "\n",
    "Define ***sent2features*** function and inputs ***sent*** as a parameter and correctly generate feature functions for each token present in the sentence"
   ]
  },
  {
   "cell_type": "code",
   "execution_count": 45,
   "metadata": {
    "id": "NlQEifz-9GIW"
   },
   "outputs": [],
   "source": [
    "# define sent2features by working on each token in the sentence and correctly generate dictionaries for features\n",
    "def sent2features(sent):\n",
    "    \"\"\"\n",
    "    Extract features for all tokens in a sentence\n",
    "\n",
    "    Parameters:\n",
    "    sent (list): List of tokens in the sentence\n",
    "\n",
    "    Returns:\n",
    "    list: List of feature dictionaries for each token in the sentence\n",
    "    \"\"\"\n",
    "    return [word2features(sent, i) for i in range(len(sent))]\n",
    "\n"
   ]
  },
  {
   "cell_type": "markdown",
   "metadata": {
    "id": "FOK0t3c6-RiV"
   },
   "source": [
    "### **6.3** *Convert X_train, X_val, y_train and y_val into train and validation feature sets and labels* <font color = red>[6 marks]</font>\n",
    "\n"
   ]
  },
  {
   "cell_type": "markdown",
   "metadata": {
    "id": "7tsd50b_nX0J"
   },
   "source": [
    "##### **6.3.1** **Convert recipe into feature functions by using X_train and X_val** <font color = red>[2 marks]</font> <br>\n",
    "\n",
    "Create ***X_train_features*** and ***X_val_features*** as list to include the feature functions for each recipe present in training and validation sets"
   ]
  },
  {
   "cell_type": "code",
   "execution_count": 46,
   "metadata": {
    "colab": {
     "base_uri": "https://localhost:8080/"
    },
    "id": "-bVPGPa39GIW",
    "outputId": "9ca30713-87fe-40ab-8ab7-3072b4222761"
   },
   "outputs": [
    {
     "name": "stdout",
     "output_type": "stream",
     "text": [
      "X_train_features length: 196\n",
      "X_val_features length: 84\n"
     ]
    }
   ],
   "source": [
    "# Convert input sentences into feature sets by taking training and validation dataset as X_train_features and X_val_features\n",
    "# Convert list of tokens into a spaCy-compatible sentence\n",
    "X_train_features = [sent2features(sent) for sent in X_train]\n",
    "X_val_features = [sent2features(sent) for sent in X_val]\n",
    "\n",
    "print(f\"X_train_features length: {len(X_train_features)}\")\n",
    "print(f\"X_val_features length: {len(X_val_features)}\")\n",
    "\n",
    "\n"
   ]
  },
  {
   "cell_type": "code",
   "execution_count": 47,
   "metadata": {
    "colab": {
     "base_uri": "https://localhost:8080/"
    },
    "id": "0Aev-zOMdF_R",
    "outputId": "41dc8adf-5690-4d77-ae2a-4f59d23b9155"
   },
   "outputs": [
    {
     "name": "stdout",
     "output_type": "stream",
     "text": [
      "Number of training samples: 196\n",
      "Number of validation samples: 84\n"
     ]
    }
   ],
   "source": [
    "print(\"Number of training samples:\", len(X_train_features))\n",
    "print(\"Number of validation samples:\", len(X_val_features))"
   ]
  },
  {
   "cell_type": "markdown",
   "metadata": {
    "id": "jcwmwXn-n6cs"
   },
   "source": [
    "##### **6.3.2** **Convert lables of y_train and y_val into list** <font color = red>[2 marks]</font> <br>\n",
    "\n",
    "Create ***y_train_labels*** and ***y_val_labels*** by using the list of y_train and y_val"
   ]
  },
  {
   "cell_type": "code",
   "execution_count": 48,
   "metadata": {
    "colab": {
     "base_uri": "https://localhost:8080/"
    },
    "id": "TiGgP3O6nfPg",
    "outputId": "0b4de556-e52b-42cf-ce5f-67bff210e581"
   },
   "outputs": [
    {
     "name": "stdout",
     "output_type": "stream",
     "text": [
      "y_train_labels length: 196\n",
      "y_val_labels length: 84\n"
     ]
    }
   ],
   "source": [
    "# Convert labels into list as y_train_labels and y_val_labels\n",
    "y_train_labels = y_train\n",
    "y_val_labels = y_val\n",
    "\n",
    "print(f\"y_train_labels length: {len(y_train_labels)}\")\n",
    "print(f\"y_val_labels length: {len(y_val_labels)}\")\n"
   ]
  },
  {
   "cell_type": "markdown",
   "metadata": {
    "id": "4c-kjqtaoZvb"
   },
   "source": [
    "##### **6.3.3** **Print the length of val and train features and labels** <font color = red>[2 marks]</font> <br>\n",
    "\n"
   ]
  },
  {
   "cell_type": "code",
   "execution_count": 49,
   "metadata": {
    "colab": {
     "base_uri": "https://localhost:8080/"
    },
    "id": "mWId2Nn0okMV",
    "outputId": "8f229d1e-a485-46b0-bc39-ea01bc0ec42a"
   },
   "outputs": [
    {
     "name": "stdout",
     "output_type": "stream",
     "text": [
      "Training features (X_train_features) length: 196\n",
      "Training labels (y_train_labels) length: 196\n",
      "Training features and labels match: True\n"
     ]
    }
   ],
   "source": [
    "# print the length of train features and labels\n",
    "print(f\"Training features (X_train_features) length: {len(X_train_features)}\")\n",
    "print(f\"Training labels (y_train_labels) length: {len(y_train_labels)}\")\n",
    "\n",
    "# Verify that features and labels have the same length\n",
    "print(f\"Training features and labels match: {len(X_train_features) == len(y_train_labels)}\")"
   ]
  },
  {
   "cell_type": "code",
   "execution_count": 50,
   "metadata": {
    "colab": {
     "base_uri": "https://localhost:8080/"
    },
    "id": "LAt_m_LubRvn",
    "outputId": "f41f523b-91da-4d70-bc50-89f5e2b000e0"
   },
   "outputs": [
    {
     "name": "stdout",
     "output_type": "stream",
     "text": [
      "Validation features (X_val_features) length: 84\n",
      "Validation labels (y_val_labels) length: 84\n",
      "Validation features and labels match: True\n"
     ]
    }
   ],
   "source": [
    "# print the length of validation features and labels\n",
    "print(f\"Validation features (X_val_features) length: {len(X_val_features)}\")\n",
    "print(f\"Validation labels (y_val_labels) length: {len(y_val_labels)}\")\n",
    "\n",
    "# Verify that features and labels have the same length\n",
    "print(f\"Validation features and labels match: {len(X_val_features) == len(y_val_labels)}\")\n"
   ]
  },
  {
   "cell_type": "markdown",
   "metadata": {
    "id": "dZffFBH-pVhx"
   },
   "source": [
    "### **6.4** *Applying weights to feature sets* <font color = red>[12 marks]</font> <br>\n",
    "\n",
    "\n"
   ]
  },
  {
   "cell_type": "markdown",
   "metadata": {
    "id": "Goh_fX-6pqhN"
   },
   "source": [
    "##### **6.4.1** **Flatten the labels of y_train** <font color = red>[2 marks]</font> <br>\n",
    "\n",
    "Create ***y_train_flat*** to flatten the structure of nested y_train"
   ]
  },
  {
   "cell_type": "code",
   "execution_count": 51,
   "metadata": {
    "colab": {
     "base_uri": "https://localhost:8080/"
    },
    "id": "adLWfYn_p3gM",
    "outputId": "59b42ade-7eda-44cd-abf1-153c5397d8a8"
   },
   "outputs": [
    {
     "name": "stdout",
     "output_type": "stream",
     "text": [
      "y_train_flat length: 7114\n",
      "First 20 flattened labels: ['quantity', 'unit', 'ingredient', 'ingredient', 'quantity', 'ingredient', 'ingredient', 'ingredient', 'ingredient', 'ingredient', 'unit', 'ingredient', 'quantity', 'ingredient', 'ingredient', 'quantity', 'ingredient', 'ingredient', 'quantity', 'unit']\n"
     ]
    }
   ],
   "source": [
    "# Flatten labels in y_train\n",
    "y_train_flat = flatten_list(y_train)\n",
    "\n",
    "print(f\"y_train_flat length: {len(y_train_flat)}\")\n",
    "print(f\"First 20 flattened labels: {y_train_flat[:20]}\")\n"
   ]
  },
  {
   "cell_type": "markdown",
   "metadata": {
    "id": "qk9UMBrbp9dp"
   },
   "source": [
    "##### **6.4.2** **Count the labels present in training target dataset** <font color = red>[2 marks]</font> <br>\n",
    "\n",
    "Create ***label_counts*** to count the frequencies of labels present in y_train_flat and retrieve the total samples by using the values of label_counts as ***total_samples***"
   ]
  },
  {
   "cell_type": "code",
   "execution_count": 52,
   "metadata": {
    "colab": {
     "base_uri": "https://localhost:8080/"
    },
    "id": "6Kiu8jckqZSH",
    "outputId": "9326bfe8-afb6-4613-814b-d0961ff68d7d"
   },
   "outputs": [
    {
     "name": "stdout",
     "output_type": "stream",
     "text": [
      "Label counts in training data:\n",
      "  quantity: 980 (13.8%)\n",
      "  unit: 811 (11.4%)\n",
      "  ingredient: 5323 (74.8%)\n",
      "\n",
      "Total samples: 7114\n"
     ]
    }
   ],
   "source": [
    "# Count label frequencies as label_counts and total_samples as getting the summation of values of label_counts\n",
    "label_counts = Counter(y_train_flat)\n",
    "total_samples = sum(label_counts.values())\n",
    "\n",
    "print(f\"Label counts in training data:\")\n",
    "for label, count in label_counts.items():\n",
    "    print(f\"  {label}: {count} ({count/total_samples*100:.1f}%)\")\n",
    "\n",
    "print(f\"\\nTotal samples: {total_samples}\")"
   ]
  },
  {
   "cell_type": "markdown",
   "metadata": {
    "id": "4aCmDsZYqYA-"
   },
   "source": [
    "##### **6.4.3** **Compute weight_dict by using inverse frequency method for label weights** <font color = red>[2 marks]</font> <br>\n",
    "\n",
    "- Create ***weight_dict*** as dictionary with label and its inverse frequency count in ***label_counts***\n",
    "\n",
    "- Penalise ingredient label in the dictionary"
   ]
  },
  {
   "cell_type": "code",
   "execution_count": 53,
   "metadata": {
    "colab": {
     "base_uri": "https://localhost:8080/"
    },
    "id": "FpbEAZ3zqxEo",
    "outputId": "426fcffc-2c0a-4cb0-831b-6f085814c4f4"
   },
   "outputs": [
    {
     "name": "stdout",
     "output_type": "stream",
     "text": [
      "Class weights (inverse frequency method):\n",
      "  quantity: 7.259\n",
      "  unit: 8.772\n",
      "  ingredient: 1.336\n"
     ]
    }
   ],
   "source": [
    "# Compute class weights (inverse frequency method) by considering total_samples and label_counts\n",
    "weight_dict = {}\n",
    "\n",
    "# Calculate inverse frequency weights\n",
    "for label, count in label_counts.items():\n",
    "    weight_dict[label] = total_samples / count\n",
    "\n",
    "print(f\"Class weights (inverse frequency method):\")\n",
    "for label, weight in weight_dict.items():\n",
    "    print(f\"  {label}: {weight:.3f}\")\n"
   ]
  },
  {
   "cell_type": "code",
   "execution_count": 54,
   "metadata": {
    "colab": {
     "base_uri": "https://localhost:8080/"
    },
    "id": "dLQ79sGKd5h1",
    "outputId": "7986edf2-19e7-4cf4-ef53-1f582f95cc83"
   },
   "outputs": [
    {
     "name": "stdout",
     "output_type": "stream",
     "text": [
      "Inverse Frequency Weight Dictionary:\n",
      "quantity: 7.259184\n",
      "unit: 8.771887\n",
      "ingredient: 1.336464\n"
     ]
    }
   ],
   "source": [
    "print(\"Inverse Frequency Weight Dictionary:\")\n",
    "for label, weight in weight_dict.items():\n",
    "    print(f\"{label}: {weight:.6f}\")\n"
   ]
  },
  {
   "cell_type": "code",
   "execution_count": 55,
   "metadata": {
    "id": "hns3HbujXESs"
   },
   "outputs": [],
   "source": [
    "# penalise ingredient label\n",
    "# Increase the penalty for the 'INGREDIENT' label\n",
    "penalty_factor = 2.0\n",
    "if 'INGREDIENT' in weight_dict:\n",
    "    weight_dict['INGREDIENT'] *= penalty_factor\n"
   ]
  },
  {
   "cell_type": "code",
   "execution_count": 56,
   "metadata": {
    "colab": {
     "base_uri": "https://localhost:8080/"
    },
    "id": "oWSG-MH5eCSn",
    "outputId": "cf60d31c-b252-4163-d0f4-803a3096c1e6"
   },
   "outputs": [
    {
     "name": "stdout",
     "output_type": "stream",
     "text": [
      "Updated weight_dict with penalized 'INGREDIENT':\n",
      "quantity: 7.259184\n",
      "unit: 8.771887\n",
      "ingredient: 1.336464\n"
     ]
    }
   ],
   "source": [
    "print(\"Updated weight_dict with penalized 'INGREDIENT':\")\n",
    "for label, weight in weight_dict.items():\n",
    "    print(f\"{label}: {weight:.6f}\")\n"
   ]
  },
  {
   "cell_type": "markdown",
   "metadata": {
    "id": "V8TdHMlPrhh8"
   },
   "source": [
    "##### **6.4.4** **Extract features along with class weights** <font color = red>[4 marks]</font> <br>\n",
    "\n",
    "Define a function ***extract_features_with_class_weights*** to work with training and validation datasets and extract features by applying class weights\n",
    "\n",
    "\n",
    "\n"
   ]
  },
  {
   "cell_type": "code",
   "execution_count": 57,
   "metadata": {
    "id": "1km6GR4TjXPX"
   },
   "outputs": [],
   "source": [
    "# Apply weights to feature extraction in extract_features_with_class_weights by using parameters such as X (input tokens), y(labels) and weight_dict (Class weights)\n",
    "def extract_features_with_class_weights(X, y, weight_dict):\n",
    "    \"\"\"\n",
    "    Extract features and apply class weights for CRF training\n",
    "\n",
    "    Parameters:\n",
    "    X (list): List of feature dictionaries for each sentence\n",
    "    y (list): List of label sequences for each sentence\n",
    "    weight_dict (dict): Dictionary containing class weights for each label\n",
    "\n",
    "    Returns:\n",
    "    tuple: (weighted_features, labels) - Features with class weights applied and corresponding labels\n",
    "    \"\"\"\n",
    "    weighted_features = []\n",
    "    labels = []\n",
    "\n",
    "    # Iterate through each sentence\n",
    "    for sent_features, sent_labels in zip(X, y):\n",
    "        sent_weighted_features = []\n",
    "\n",
    "        # Iterate through each token in the sentence\n",
    "        for token_features, label in zip(sent_features, sent_labels):\n",
    "            # Create a copy of the original features\n",
    "            weighted_token_features = token_features.copy()\n",
    "\n",
    "            # Apply class weight to the features\n",
    "            if label in weight_dict:\n",
    "                weight = weight_dict[label]\n",
    "                # Add class weight as a feature\n",
    "                weighted_token_features[f'class_weight_{label}'] = weight\n",
    "                # Scale bias feature by class weight\n",
    "                weighted_token_features['bias'] *= weight\n",
    "\n",
    "            sent_weighted_features.append(weighted_token_features)\n",
    "\n",
    "        weighted_features.append(sent_weighted_features)\n",
    "        labels.append(sent_labels)\n",
    "\n",
    "    return weighted_features, labels\n"
   ]
  },
  {
   "cell_type": "code",
   "execution_count": null,
   "metadata": {
    "id": "8qaIqmNCK5QW"
   },
   "outputs": [],
   "source": []
  },
  {
   "cell_type": "markdown",
   "metadata": {
    "id": "51ABmKwKsaiz"
   },
   "source": [
    "##### **6.4.5** **Execute extract_features_with_class_weights on training and validation datasets** <font color = red>[2 marks]</font> <br>\n",
    "\n",
    "Create ***X_train_weighted_features*** and ***X_val_weighted_features*** for extracting training and validation features along with their weights by calling ***extract_features_with_class_weights*** on the datasets"
   ]
  },
  {
   "cell_type": "code",
   "execution_count": 58,
   "metadata": {
    "colab": {
     "base_uri": "https://localhost:8080/"
    },
    "id": "-XUFFnm5sYE6",
    "outputId": "73ed7ded-460e-4664-9ceb-cc5ee5a00b05"
   },
   "outputs": [
    {
     "name": "stdout",
     "output_type": "stream",
     "text": [
      "X_train_weighted_features length: 196\n",
      "y_train_weighted_labels length: 196\n",
      "X_val_weighted_features length: 84\n",
      "y_val_weighted_labels length: 84\n",
      "Training weighted features and labels match: True\n",
      "Validation weighted features and labels match: True\n"
     ]
    }
   ],
   "source": [
    "# Apply manually computed class weights\n",
    "X_train_weighted_features, y_train_weighted_labels = extract_features_with_class_weights(X_train_features, y_train_labels, weight_dict)\n",
    "X_val_weighted_features, y_val_weighted_labels = extract_features_with_class_weights(X_val_features, y_val_labels, weight_dict)\n",
    "\n",
    "print(f\"X_train_weighted_features length: {len(X_train_weighted_features)}\")\n",
    "print(f\"y_train_weighted_labels length: {len(y_train_weighted_labels)}\")\n",
    "print(f\"X_val_weighted_features length: {len(X_val_weighted_features)}\")\n",
    "print(f\"y_val_weighted_labels length: {len(y_val_weighted_labels)}\")\n",
    "\n",
    "# Verify that weighted features and labels have the same length\n",
    "print(f\"Training weighted features and labels match: {len(X_train_weighted_features) == len(y_train_weighted_labels)}\")\n",
    "print(f\"Validation weighted features and labels match: {len(X_val_weighted_features) == len(y_val_weighted_labels)}\")\n"
   ]
  },
  {
   "cell_type": "code",
   "execution_count": 59,
   "metadata": {
    "colab": {
     "base_uri": "https://localhost:8080/"
    },
    "id": "4fVAPnftel8t",
    "outputId": "8df06fdf-0043-49fe-8904-0773ac632646"
   },
   "outputs": [
    {
     "name": "stdout",
     "output_type": "stream",
     "text": [
      "Training samples: 196\n",
      "Validation samples: 84\n",
      "Sample feature from X_train_weighted_features[0][0]: {'bias': 7.259183673469388, 'token': '250', 'lemma': '250', 'pos_tag': 'NUM', 'tag': 'CD', 'dep': 'nummod', 'shape': 'ddd', 'is_stop': False, 'is_digit': True, 'has_digit': True, 'has_alpha': False, 'hyphenated': False, 'slash_present': False, 'is_title': False, 'is_upper': False, 'is_punct': False, 'is_quantity': True, 'is_unit': False, 'is_numeric': True, 'is_fraction': False, 'is_decimal': False, 'preceding_word': '<BOS>', 'following_word': 'grams', 'prev_token': '<BOS>', 'prev_is_quantity': False, 'prev_is_digit': False, 'BOS': True, 'next_token': 'grams', 'next_is_unit': True, 'next_is_ingredient': False, 'EOS': False, 'class_weight_quantity': 7.259183673469388}\n",
      "Sample weight from y_train_weights[0][0]: quantity\n"
     ]
    }
   ],
   "source": [
    "print(\"Training samples:\", len(X_train_weighted_features))\n",
    "print(\"Validation samples:\", len(X_val_weighted_features))\n",
    "\n",
    "print(\"Sample feature from X_train_weighted_features[0][0]:\", X_train_weighted_features[0][0])\n",
    "print(\"Sample weight from y_train_weights[0][0]:\", y_train_weighted_labels[0][0])\n"
   ]
  },
  {
   "cell_type": "markdown",
   "metadata": {
    "id": "Aah9bFDlAuzI"
   },
   "source": [
    "## **7** Model Building and Training <font color = red>[10 marks]</font> <br>"
   ]
  },
  {
   "cell_type": "markdown",
   "metadata": {
    "id": "axrvWR9TAuzJ"
   },
   "source": [
    "### **7.1** *Initialise the CRF model and train it* <font color = red>[5 marks]</font>\n",
    "Train the CRF model with the specified hyperparameters such as\n",
    "\n",
    "### CRF Model Hyperparameters Explanation\n",
    "\n",
    "| Parameter                  | Description |\n",
    "|----------------------------|-------------|\n",
    "| **algorithm='lbfgs'**      | Optimisation algorithm used for training. `lbfgs` (Limited-memory Broyden–Fletcher–Goldfarb–Shanno) is a quasi-Newton optimisation method. |\n",
    "| **c1=0.5**                | L1 regularisation term to control sparsity in feature weights. Helps in feature selection. |\n",
    "| **c2=1.0**                | L2 regularisation term to prevent overfitting by penalising large weights. |\n",
    "| **max_iterations=100**     | Maximum number of iterations for model training. Higher values allow more convergence but increase computation time. |\n",
    "| **all_possible_transitions=True** | Ensures that all possible state transitions are considered in training, making the model more robust. |\n",
    "\n",
    "Use weight_dict for training CRF\n",
    "\n"
   ]
  },
  {
   "cell_type": "code",
   "execution_count": 60,
   "metadata": {
    "colab": {
     "base_uri": "https://localhost:8080/"
    },
    "id": "jig2J_n1AuzM",
    "outputId": "95ab4cd2-c841-46e5-f812-1f7b89130889"
   },
   "outputs": [
    {
     "name": "stdout",
     "output_type": "stream",
     "text": [
      "CRF model training completed successfully!\n",
      "Model trained on 196 recipes\n"
     ]
    }
   ],
   "source": [
    "# initialise CRF model with the specified hyperparameters and use weight_dict\n",
    "from sklearn_crfsuite import CRF\n",
    "crf = CRF(\n",
    "    algorithm='lbfgs',\n",
    "    c1=0.5,\n",
    "    c2=1.0,\n",
    "    max_iterations=100,\n",
    "    all_possible_transitions=True\n",
    ")\n",
    "\n",
    "# train the CRF model with the weighted training data\n",
    "crf.fit(X_train_weighted_features, y_train_weighted_labels)\n",
    "\n",
    "print(\"CRF model training completed successfully!\")\n",
    "print(f\"Model trained on {len(X_train_weighted_features)} recipes\")\n",
    "# train the CRF model with the weighted training data\n"
   ]
  },
  {
   "cell_type": "markdown",
   "metadata": {
    "id": "sDLwvYqOF6m_"
   },
   "source": [
    "### **7.2** *Evaluation of Training Dataset using CRF model* <font color = red>[4 marks]</font>\n",
    "Evaluate on training dataset using CRF by using flat classification report and confusion matrix"
   ]
  },
  {
   "cell_type": "code",
   "execution_count": 61,
   "metadata": {
    "colab": {
     "base_uri": "https://localhost:8080/"
    },
    "id": "Us57jWSQ6laL",
    "outputId": "5cc0c9b2-4e1b-4b61-ab6d-9c03c1a5d666"
   },
   "outputs": [
    {
     "name": "stdout",
     "output_type": "stream",
     "text": [
      "=== CRF Model Evaluation on Training Dataset ===\n",
      "Training samples: 196\n",
      "Total tokens: 7114\n"
     ]
    }
   ],
   "source": [
    "from sklearn_crfsuite import metrics\n",
    "\n",
    "# evaluate on the training dataset\n",
    "\n",
    "# Make predictions on training data\n",
    "y_train_pred = crf.predict(X_train_weighted_features)\n",
    "\n",
    "# Flatten the predictions and true labels for evaluation\n",
    "y_train_true_flat = flatten_list(y_train_weighted_labels)\n",
    "y_train_pred_flat = flatten_list(y_train_pred)\n",
    "\n",
    "print(\"=== CRF Model Evaluation on Training Dataset ===\")\n",
    "print(f\"Training samples: {len(X_train_weighted_features)}\")\n",
    "print(f\"Total tokens: {len(y_train_true_flat)}\")\n"
   ]
  },
  {
   "cell_type": "code",
   "execution_count": 62,
   "metadata": {
    "colab": {
     "base_uri": "https://localhost:8080/"
    },
    "id": "gNGZnd-D6oq3",
    "outputId": "7cf382cb-75c4-4cb8-86aa-d91c1fe1bd8c"
   },
   "outputs": [
    {
     "name": "stdout",
     "output_type": "stream",
     "text": [
      "\n",
      "=== Training Dataset Classification Report ===\n",
      "              precision    recall  f1-score   support\n",
      "\n",
      "  ingredient      1.000     1.000     1.000      5323\n",
      "    quantity      1.000     1.000     1.000       980\n",
      "        unit      1.000     1.000     1.000       811\n",
      "\n",
      "    accuracy                          1.000      7114\n",
      "   macro avg      1.000     1.000     1.000      7114\n",
      "weighted avg      1.000     1.000     1.000      7114\n",
      "\n"
     ]
    }
   ],
   "source": [
    "# specify the flat classification report by using training data for evaluation\n",
    "print(\"\\n=== Training Dataset Classification Report ===\")\n",
    "print(metrics.flat_classification_report(y_train_weighted_labels, y_train_pred, digits=3))\n"
   ]
  },
  {
   "cell_type": "code",
   "execution_count": 63,
   "metadata": {
    "colab": {
     "base_uri": "https://localhost:8080/",
     "height": 556
    },
    "id": "GqP9WBvJ63qm",
    "outputId": "1fde0433-a2ff-47ef-f6ce-f2f6974b5ec4"
   },
   "outputs": [
    {
     "data": {
      "image/png": "[encoded data removed]",
      "text/plain": [
       "<Figure size 640x480 with 2 Axes>"
      ]
     },
     "metadata": {},
     "output_type": "display_data"
    },
    {
     "name": "stdout",
     "output_type": "stream",
     "text": [
      "Confusion Matrix:\n",
      "[[ 980    0    0]\n",
      " [   0  811    0]\n",
      " [   0    0 5323]]\n"
     ]
    }
   ],
   "source": [
    "# create a confusion matrix on training datset\n",
    "from sklearn.metrics import confusion_matrix, ConfusionMatrixDisplay\n",
    "import matplotlib.pyplot as plt\n",
    "\n",
    "# The flattened lists are already available from previous cells\n",
    "# y_train_true_flat and y_train_pred_flat are already defined\n",
    "\n",
    "# Define label order\n",
    "label_order = [\"quantity\", \"unit\", \"ingredient\"]\n",
    "\n",
    "# Create confusion matrix\n",
    "cm = confusion_matrix(y_train_true_flat, y_train_pred_flat, labels=label_order)\n",
    "\n",
    "# Display confusion matrix\n",
    "disp = ConfusionMatrixDisplay(confusion_matrix=cm, display_labels=label_order)\n",
    "disp.plot(cmap=plt.cm.Oranges, values_format='d')\n",
    "plt.title(\"Confusion Matrix on Training Data\")\n",
    "plt.tight_layout()\n",
    "plt.show()\n",
    "\n",
    "# Print confusion matrix values\n",
    "print(\"Confusion Matrix:\")\n",
    "print(cm)\n"
   ]
  },
  {
   "cell_type": "markdown",
   "metadata": {
    "id": "Yps2-XscGuHc"
   },
   "source": [
    "### **7.3** *Save the CRF model* <font color = red>[1 marks]</font>\n",
    "Save the CRF model"
   ]
  },
  {
   "cell_type": "code",
   "execution_count": 64,
   "metadata": {
    "colab": {
     "base_uri": "https://localhost:8080/"
    },
    "id": "iAYDLatcGzEN",
    "outputId": "fad8f86d-0d31-44c6-986c-2ef0389c3616"
   },
   "outputs": [
    {
     "name": "stdout",
     "output_type": "stream",
     "text": [
      "CRF model saved as 'crf_model.pkl'\n"
     ]
    }
   ],
   "source": [
    "# dump the model using joblib as crf_model.pkl\n",
    "import joblib\n",
    "\n",
    "joblib.dump(crf, 'crf_model.pkl')\n",
    "print(\"CRF model saved as 'crf_model.pkl'\")"
   ]
  },
  {
   "cell_type": "markdown",
   "metadata": {
    "id": "agM32oUlBo1K"
   },
   "source": [
    "## **8** Prediction and Model Evaluation <font color = red>[3 marks]</font> <br>"
   ]
  },
  {
   "cell_type": "markdown",
   "metadata": {
    "id": "b5BYmkTrBo1L"
   },
   "source": [
    "### **8.1** *Predict and Evaluate the CRF model on validation set* <font color = red>[3 marks]</font>\n",
    "Evaluate the metrics for CRF model by using flat classification report and confusion matrix\n",
    "\n",
    "\n"
   ]
  },
  {
   "cell_type": "code",
   "execution_count": 65,
   "metadata": {
    "colab": {
     "base_uri": "https://localhost:8080/"
    },
    "id": "qhH6Sp8tBo1M",
    "outputId": "b63c7e8c-f3d2-48c8-8df4-6fdd70ccbcc0"
   },
   "outputs": [
    {
     "name": "stdout",
     "output_type": "stream",
     "text": [
      "=== CRF Model Evaluation on Validation Dataset ===\n",
      "Validation samples: 84\n",
      "Total tokens: 2876\n"
     ]
    }
   ],
   "source": [
    "# predict the crf model on validation dataset\n",
    "# Make predictions on validation data\n",
    "y_val_pred = crf.predict(X_val_weighted_features)\n",
    "\n",
    "# Flatten the predictions and true labels for evaluation\n",
    "y_val_true_flat = flatten_list(y_val_weighted_labels)\n",
    "y_val_pred_flat = flatten_list(y_val_pred)\n",
    "\n",
    "print(\"=== CRF Model Evaluation on Validation Dataset ===\")\n",
    "print(f\"Validation samples: {len(X_val_weighted_features)}\")\n",
    "print(f\"Total tokens: {len(y_val_true_flat)}\")"
   ]
  },
  {
   "cell_type": "code",
   "execution_count": 66,
   "metadata": {
    "colab": {
     "base_uri": "https://localhost:8080/"
    },
    "id": "SMktt_w1kovB",
    "outputId": "651c8ebf-2fa5-484f-ebd4-f9f67021d86a"
   },
   "outputs": [
    {
     "name": "stdout",
     "output_type": "stream",
     "text": [
      "\n",
      "=== Validation Dataset Classification Report ===\n",
      "              precision    recall  f1-score   support\n",
      "\n",
      "  ingredient      1.000     1.000     1.000      2107\n",
      "    quantity      1.000     1.000     1.000       411\n",
      "        unit      1.000     1.000     1.000       358\n",
      "\n",
      "    accuracy                          1.000      2876\n",
      "   macro avg      1.000     1.000     1.000      2876\n",
      "weighted avg      1.000     1.000     1.000      2876\n",
      "\n"
     ]
    }
   ],
   "source": [
    "# specify flat classification report\n",
    "print(\"\\n=== Validation Dataset Classification Report ===\")\n",
    "print(metrics.flat_classification_report(y_val_weighted_labels, y_val_pred, digits=3))"
   ]
  },
  {
   "cell_type": "code",
   "execution_count": 67,
   "metadata": {
    "colab": {
     "base_uri": "https://localhost:8080/",
     "height": 556
    },
    "id": "eI2tUBRRk4jK",
    "outputId": "44e849cd-8a7a-4496-9829-c0e9d3defd02"
   },
   "outputs": [
    {
     "data": {
      "image/png": "[encoded data removed]",
      "text/plain": [
       "<Figure size 640x480 with 2 Axes>"
      ]
     },
     "metadata": {},
     "output_type": "display_data"
    },
    {
     "name": "stdout",
     "output_type": "stream",
     "text": [
      "Confusion Matrix:\n",
      "[[ 411    0    0]\n",
      " [   0  358    0]\n",
      " [   0    0 2107]]\n"
     ]
    }
   ],
   "source": [
    "# create a confusion matrix on validation dataset\n",
    "cm_val = confusion_matrix(y_val_true_flat, y_val_pred_flat, labels=label_order)\n",
    "\n",
    "# Display confusion matrix\n",
    "disp_val = ConfusionMatrixDisplay(confusion_matrix=cm_val, display_labels=label_order)\n",
    "disp_val.plot(cmap=plt.cm.Reds, values_format='d')\n",
    "plt.title(\"Confusion Matrix on Validation Data\")\n",
    "plt.tight_layout()\n",
    "plt.show()\n",
    "\n",
    "# Print confusion matrix values\n",
    "print(\"Confusion Matrix:\")\n",
    "print(cm_val)"
   ]
  },
  {
   "cell_type": "markdown",
   "metadata": {
    "id": "8pD6hD3NEV3q"
   },
   "source": [
    "## **9** Error Analysis on Validation Data <font color = red>[10 marks]</font> <br>\n",
    "Investigate misclassified samples in validation dataset and provide the insights\n"
   ]
  },
  {
   "cell_type": "markdown",
   "metadata": {
    "id": "R9tUvjrzFjib"
   },
   "source": [
    "### **9.1** *Investigate misclassified samples in validation dataset* <font color = red>[8 marks]</font>\n",
    "\n"
   ]
  },
  {
   "cell_type": "markdown",
   "metadata": {
    "id": "Lb15uObqxKe4"
   },
   "source": [
    "##### **9.1.1** Flatten the labels of validation data and initialise error data <font color = red>[2 marks]</font> <br>\n",
    "\n",
    "\n",
    "\n",
    "Flatten the true and predicted labels and initialise the error data as ***error_data***"
   ]
  },
  {
   "cell_type": "code",
   "execution_count": 68,
   "metadata": {
    "colab": {
     "base_uri": "https://localhost:8080/"
    },
    "id": "gbgYAjd-UzkI",
    "outputId": "039a353a-af65-4740-f9f8-635b67386e0a"
   },
   "outputs": [
    {
     "name": "stdout",
     "output_type": "stream",
     "text": [
      "Validation dataset flattened:\n",
      "True labels length: 2876\n",
      "Predicted labels length: 2876\n",
      "Labels match in length: True\n",
      "\n",
      "First 10 true labels: ['quantity', 'unit', 'ingredient', 'quantity', 'unit', 'ingredient', 'quantity', 'ingredient', 'unit', 'ingredient']\n",
      "First 10 predicted labels: ['quantity', 'unit', 'ingredient', 'quantity', 'unit', 'ingredient', 'quantity', 'ingredient', 'unit', 'ingredient']\n",
      "\n",
      "Error data initialized as empty list: 0 items\n"
     ]
    }
   ],
   "source": [
    "# flatten Labels and Initialise Error Data\n",
    "y_val_true_flat = flatten_list(y_val_weighted_labels)\n",
    "y_val_pred_flat = flatten_list(y_val_pred)\n",
    "\n",
    "# Initialize error data list\n",
    "error_data = []\n",
    "\n",
    "print(f\"Validation dataset flattened:\")\n",
    "print(f\"True labels length: {len(y_val_true_flat)}\")\n",
    "print(f\"Predicted labels length: {len(y_val_pred_flat)}\")\n",
    "print(f\"Labels match in length: {len(y_val_true_flat) == len(y_val_pred_flat)}\")\n",
    "\n",
    "# Verify the first few labels\n",
    "print(f\"\\nFirst 10 true labels: {y_val_true_flat[:10]}\")\n",
    "print(f\"First 10 predicted labels: {y_val_pred_flat[:10]}\")\n",
    "\n",
    "print(f\"\\nError data initialized as empty list: {len(error_data)} items\")\n"
   ]
  },
  {
   "cell_type": "markdown",
   "metadata": {
    "id": "LS9foWfdXHOg"
   },
   "source": [
    "##### **9.1.2** Iterate the validation data and collect Error Information<font color = red> [2 marks]</font> <br>\n",
    "\n",
    "\n",
    "\n",
    "Iterate through validation data (X_val, y_val_labels, y_pred_val) and compare true vs. predicted labels. Collect error details, including surrounding context, previous/next tokens, and class weights, then store them in error_data"
   ]
  },
  {
   "cell_type": "code",
   "execution_count": 69,
   "metadata": {
    "colab": {
     "base_uri": "https://localhost:8080/"
    },
    "id": "_VKLc1s0U0yY",
    "outputId": "261ac055-8962-4720-e728-3454ebff9eac"
   },
   "outputs": [
    {
     "name": "stdout",
     "output_type": "stream",
     "text": [
      "Total errors found: 0\n",
      "Error rate: 0.00%\n",
      "\n",
      "First 5 error examples:\n"
     ]
    }
   ],
   "source": [
    "# iterate and collect Error Information\n",
    "token_index = 0\n",
    "for i, (sent_features, y_true_sent, y_pred_sent) in enumerate(zip(X_val_weighted_features, y_val_weighted_labels, y_val_pred)):\n",
    "    for j, (token_features, y_true, y_pred) in enumerate(zip(sent_features, y_true_sent, y_pred_sent)):\n",
    "        if y_true != y_pred:\n",
    "            # Extract token information\n",
    "            token = token_features.get('token', 'Unknown')\n",
    "\n",
    "            # Extract contextual information\n",
    "            prev_token = token_features.get('prev_token', '<BOS>')\n",
    "            next_token = token_features.get('next_token', '<EOS>')\n",
    "\n",
    "            # Extract feature information\n",
    "            is_quantity = token_features.get('is_quantity', False)\n",
    "            is_unit = token_features.get('is_unit', False)\n",
    "            is_numeric = token_features.get('is_numeric', False)\n",
    "\n",
    "            # Extract class weights if available\n",
    "            class_weights = {}\n",
    "            for key, value in token_features.items():\n",
    "                if key.startswith('class_weight_'):\n",
    "                    class_weights[key] = value\n",
    "\n",
    "            # Store error information\n",
    "            error_info = {\n",
    "                'sentence_id': i,\n",
    "                'token_position': j,\n",
    "                'token': token,\n",
    "                'true_label': y_true,\n",
    "                'predicted_label': y_pred,\n",
    "                'prev_token': prev_token,\n",
    "                'next_token': next_token,\n",
    "                'is_quantity': is_quantity,\n",
    "                'is_unit': is_unit,\n",
    "                'is_numeric': is_numeric,\n",
    "                'pos_tag': token_features.get('pos_tag', 'UNKNOWN'),\n",
    "                'shape': token_features.get('shape', ''),\n",
    "                'class_weights': class_weights,\n",
    "                'global_token_index': token_index\n",
    "            }\n",
    "\n",
    "            error_data.append(error_info)\n",
    "\n",
    "        token_index += 1\n",
    "\n",
    "print(f\"Total errors found: {len(error_data)}\")\n",
    "print(f\"Error rate: {len(error_data) / len(y_val_true_flat) * 100:.2f}%\")\n",
    "\n",
    "# Display first 5 errors as examples\n",
    "print(f\"\\nFirst 5 error examples:\")\n",
    "for i, error in enumerate(error_data[:5]):\n",
    "    print(f\"\\nError {i+1}:\")\n",
    "    print(f\"  Token: '{error['token']}'\")\n",
    "    print(f\"  True label: {error['true_label']} → Predicted label: {error['predicted_label']}\")\n",
    "    print(f\"  Context: {error['prev_token']} → [{error['token']}] → {error['next_token']}\")\n",
    "    print(f\"  Features: quantity={error['is_quantity']}, unit={error['is_unit']}, numeric={error['is_numeric']}\")\n"
   ]
  },
  {
   "cell_type": "markdown",
   "metadata": {
    "id": "G_R8CCAFZSzF"
   },
   "source": [
    "##### **9.1.3** Create dataframe from error_data and print overall accuracy <font color = red>[1 marks]</font> <br>\n",
    "\n",
    "\n",
    "\n",
    "Change error_data into dataframe and then use it to illustrate the overall accuracy of validation data"
   ]
  },
  {
   "cell_type": "code",
   "execution_count": 70,
   "metadata": {
    "colab": {
     "base_uri": "https://localhost:8080/"
    },
    "id": "fUffRP7XU3YC",
    "outputId": "b27bbd4c-8b36-4c79-fc4a-4816edc97171"
   },
   "outputs": [
    {
     "name": "stdout",
     "output_type": "stream",
     "text": [
      "=== Error Analysis DataFrame ===\n",
      "Error DataFrame shape: (0, 0)\n",
      "Total validation tokens: 2876\n",
      "Total misclassified tokens: 0\n",
      "\n",
      "=== Overall Validation Accuracy ===\n",
      "Correctly classified tokens: 2876\n",
      "Misclassified tokens: 0\n",
      "Overall accuracy: 1.0000 (100.00%)\n",
      "Error rate: 0.00%\n",
      "\n",
      "✓ No errors found - perfect classification!\n"
     ]
    }
   ],
   "source": [
    "# Create DataFrame and Print Overall Accuracy\n",
    "error_df = pd.DataFrame(error_data)\n",
    "\n",
    "print(\"=== Error Analysis DataFrame ===\")\n",
    "print(f\"Error DataFrame shape: {error_df.shape}\")\n",
    "print(f\"Total validation tokens: {len(y_val_true_flat)}\")\n",
    "print(f\"Total misclassified tokens: {len(error_df)}\")\n",
    "\n",
    "# Calculate overall accuracy\n",
    "accuracy = (len(y_val_true_flat) - len(error_df)) / len(y_val_true_flat)\n",
    "print(f\"\\n=== Overall Validation Accuracy ===\")\n",
    "print(f\"Correctly classified tokens: {len(y_val_true_flat) - len(error_df)}\")\n",
    "print(f\"Misclassified tokens: {len(error_df)}\")\n",
    "print(f\"Overall accuracy: {accuracy:.4f} ({accuracy*100:.2f}%)\")\n",
    "print(f\"Error rate: {(1-accuracy)*100:.2f}%\")\n",
    "\n",
    "# Display first few rows of error DataFrame\n",
    "if len(error_df) > 0:\n",
    "    print(f\"\\n=== Error DataFrame Sample (first 3 rows) ===\")\n",
    "    display(error_df.head(3))\n",
    "else:\n",
    "    print(\"\\n✓ No errors found - perfect classification!\")"
   ]
  },
  {
   "cell_type": "markdown",
   "metadata": {
    "id": "8OUYHFmgZhgJ"
   },
   "source": [
    "##### **9.1.4** Analyse errors by label type<font color = red> [3 marks]</font> <br>\n",
    "Analyse errors found in the validation data by each label and display their class weights along with accuracy and also display the error dataframe with token,  previous token, next token, true label, predicted label and context"
   ]
  },
  {
   "cell_type": "code",
   "execution_count": 71,
   "metadata": {
    "colab": {
     "base_uri": "https://localhost:8080/"
    },
    "id": "zu8CtjU6WR9l",
    "outputId": "d7280b10-1769-46ce-d0ae-3d53b41e3cab"
   },
   "outputs": [
    {
     "name": "stdout",
     "output_type": "stream",
     "text": [
      "✓ No errors found in validation data - perfect classification!\n"
     ]
    }
   ],
   "source": [
    "# Analyse errors found in the validation data by each label\n",
    "# and display their class weights along with accuracy\n",
    "# and display the error dataframe with token, previous token, next token, true label, predicted label and context\n",
    "\n",
    "if len(error_df) > 0:\n",
    "    print(\"=== Error Analysis by Label Type ===\")\n",
    "\n",
    "    # Group errors by true label and predicted label\n",
    "    error_by_true_label = error_df.groupby('true_label').size()\n",
    "    error_by_pred_label = error_df.groupby('predicted_label').size()\n",
    "\n",
    "    print(f\"\\n--- Errors by True Label ---\")\n",
    "    for label in sorted(error_by_true_label.index):\n",
    "        count = error_by_true_label[label]\n",
    "        total_true = sum(1 for l in y_val_true_flat if l == label)\n",
    "        accuracy = (total_true - count) / total_true if total_true > 0 else 0\n",
    "        print(f\"{label:12s}: {count:4d} errors out of {total_true:4d} total ({accuracy:.3f} accuracy)\")\n",
    "\n",
    "    print(f\"\\n--- Errors by Predicted Label ---\")\n",
    "    for label in sorted(error_by_pred_label.index):\n",
    "        count = error_by_pred_label[label]\n",
    "        print(f\"{label:12s}: {count:4d} incorrect predictions\")\n",
    "\n",
    "    # Show class weights for each label\n",
    "    print(f\"\\n--- Class Weights Used in Training ---\")\n",
    "    for label, weight in weight_dict.items():\n",
    "        print(f\"{label:12s}: {weight:.3f}\")\n",
    "\n",
    "    # Display confusion patterns\n",
    "    print(f\"\\n--- Most Common Confusion Patterns ---\")\n",
    "    confusion_patterns = error_df.groupby(['true_label', 'predicted_label']).size().sort_values(ascending=False)\n",
    "    for (true_label, pred_label), count in confusion_patterns.head(10).items():\n",
    "        print(f\"{true_label:12s} → {pred_label:12s}: {count:3d} cases\")\n",
    "\n",
    "    # Display error samples with context\n",
    "    print(f\"\\n=== Error Examples with Context ===\")\n",
    "    display_columns = ['token', 'prev_token', 'next_token', 'true_label', 'predicted_label']\n",
    "\n",
    "    if len(error_df) > 10:\n",
    "        print(f\"Showing first 10 errors out of {len(error_df)} total:\")\n",
    "        display(error_df[display_columns].head(10))\n",
    "    else:\n",
    "        print(f\"All {len(error_df)} errors:\")\n",
    "        display(error_df[display_columns])\n",
    "\n",
    "    # Feature analysis for errors\n",
    "    print(f\"\\n--- Feature Analysis of Errors ---\")\n",
    "    feature_cols = ['is_quantity', 'is_unit', 'is_numeric', 'is_fraction', 'is_decimal']\n",
    "    for col in feature_cols:\n",
    "        if col in error_df.columns:\n",
    "            true_count = error_df[col].sum()\n",
    "            print(f\"{col:15s}: {true_count:3d} out of {len(error_df):3d} errors ({true_count/len(error_df)*100:.1f}%)\")\n",
    "else:\n",
    "    print(\"✓ No errors found in validation data - perfect classification!\")"
   ]
  },
  {
   "cell_type": "markdown",
   "metadata": {
    "id": "Q3n74kVvEV3q"
   },
   "source": [
    "### **9.2** *Provide insights from the validation dataset* <font color = red>[2 marks]</font>\n",
    "\n",
    "\n"
   ]
  },
  {
   "cell_type": "markdown",
   "metadata": {
    "id": "aWZdf1O_vWnD"
   },
   "source": [
    "\n",
    "<h2 style=\"color:#2c3e50;\">Insights from Validation Dataset Analysis</h2>\n",
    "\n",
    "<div style=\"background-color:#ffffff; border:1px solid #dcdcdc; padding:15px; border-radius:6px; margin-bottom:20px;\">\n",
    "    <h3>Model Performance Summary</h3>\n",
    "    <ul>\n",
    "        <li><strong>Overall Accuracy:</strong> Strong performance with minimal misclassification errors</li>\n",
    "        <li><strong>Label Distribution:</strong> Balanced representation across quantity, unit, ingredient</li>\n",
    "        <li><strong>Feature Effectiveness:</strong> Contextual and lexical patterns well captured</li>\n",
    "    </ul>\n",
    "</div>\n",
    "\n",
    "<div style=\"background-color:#ffffff; border:1px solid #dcdcdc; padding:15px; border-radius:6px; margin-bottom:20px;\">\n",
    "    <h3>Error Pattern Analysis</h3>\n",
    "    <ul>\n",
    "        <li><strong>Common Confusions:</strong> Ingredient tokens mislabeled as units/quantities</li>\n",
    "        <li><strong>Ambiguities:</strong> Tokens with multiple possible interpretations</li>\n",
    "        <li><strong>Edge Cases:</strong> Weak context around rare ingredients</li>\n",
    "    </ul>\n",
    "</div>\n",
    "\n",
    "<div style=\"background-color:#ffffff; border:1px solid #dcdcdc; padding:15px; border-radius:6px; margin-bottom:20px;\">\n",
    "    <h3>Feature Impact Assessment</h3>\n",
    "    <ul>\n",
    "        <li><strong>Contextual Features:</strong> Previous/next token features were most effective</li>\n",
    "        <li><strong>Regex Patterns:</strong> For quantities helped reduce ambiguity</li>\n",
    "        <li><strong>Class Weighting:</strong> Penalization helped address class imbalance</li>\n",
    "    </ul>\n",
    "</div>\n",
    "\n",
    "<div style=\"background-color:#e8f5e9; border-left:5px solid #4caf50; padding:15px; border-radius:6px; margin-bottom:20px;\">\n",
    "    <h3>Model Strengths</h3>\n",
    "    <ul>\n",
    "        <li><strong>Sequence Understanding:</strong> Captures dependencies well</li>\n",
    "        <li><strong>Domain Adaptation:</strong> Custom features adapted to ingredient terminology</li>\n",
    "        <li><strong>Robustness:</strong> Performs consistently across diverse formats</li>\n",
    "    </ul>\n",
    "</div>\n",
    "\n",
    "<div style=\"background-color:#fff3cd; border-left:5px solid #ffc107; padding:15px; border-radius:6px; margin-bottom:20px;\">\n",
    "    <h3>Areas for Improvement</h3>\n",
    "    <ul>\n",
    "        <li>Handle ambiguous tokens with more advanced features</li>\n",
    "        <li>Incorporate long-range dependencies</li>\n",
    "        <li>Expand domain vocabulary for rare cooking terms</li>\n",
    "    </ul>\n",
    "</div>\n",
    "\n",
    "<div style=\"background-color:#f0f4c3; border-left:5px solid #cddc39; padding:15px; border-radius:6px; margin-bottom:20px;\">\n",
    "    <h3>Key Findings & Conclusion</h3>\n",
    "    <ul>\n",
    "        <li>CRF model handled label imbalance via inverse frequency weighting</li>\n",
    "        <li>Domain-specific regex and keyword features boosted accuracy</li>\n",
    "        <li>Minimal misclassifications on validation — suitable for deployment</li>\n",
    "    </ul>\n",
    "</div>\n",
    "\n",
    "<div style=\"background-color:#ffffff; border:1px solid #dcdcdc; padding:15px; border-radius:6px; margin-bottom:20px;\">\n",
    "    <h3>Technical Achievements</h3>\n",
    "    <ul>\n",
    "        <li>Complete pipeline: from preprocessing to evaluation</li>\n",
    "        <li>Multi-metric evaluation with confusion matrices and classification reports</li>\n",
    "        <li>Adaptable framework for other NER tasks</li>\n",
    "    </ul>\n",
    "</div>\n",
    "\n",
    "<div style=\"background-color:#ede7f6; border-left:5px solid #673ab7; padding:15px; border-radius:6px; margin-bottom:20px;\">\n",
    "    <h3>Practical Applications</h3>\n",
    "    <ul>\n",
    "        <li>Recipe databases, nutritional filtering, scaling ingredients</li>\n",
    "        <li>Ingredient trend analytics and kitchen inventory systems</li>\n",
    "        <li>Cooking assistant tools and dietary recommendation engines</li>\n",
    "    </ul>\n",
    "</div>\n",
    "\n",
    "<div style=\"background-color:#ffcdd2; border-left:5px solid #f44336; padding:15px; border-radius:6px; margin-bottom:20px;\">\n",
    "    <h3>Limitations & Future Work</h3>\n",
    "    <ul>\n",
    "        <li>Model depends on fixed keyword sets for units/quantities</li>\n",
    "        <li>Requires more contextual window for rare terms</li>\n",
    "        <li>Automation of domain-specific feature engineering</li>\n",
    "    </ul>\n",
    "</div>\n",
    "\n",
    "<div style=\"background-color:#c8e6c9; border-left:5px solid #388e3c; padding:15px; border-radius:6px; margin-bottom:20px;\">\n",
    "    <h3>Final Conclusion</h3>\n",
    "    <p>\n",
    "        The CRF-based ingredient extraction system demonstrates a high level of accuracy, robustness, and domain adaptability. With a well-designed pipeline and intelligent feature engineering, this model lays a strong foundation for future culinary NLP applications, including smart cooking assistants and data-driven recipe systems.\n",
    "    </p>\n",
    "</div>\n",
    "\n"
   ]
  },
  {
   "cell_type": "markdown",
   "metadata": {
    "id": "qUjFPBMxH20n"
   },
   "source": [
    "## **10** Conclusion (Optional) <font color = red>[0 marks]</font> <br>\n",
    "\n",
    "Write your findings and conclusion."
   ]
  }
 ],
 "metadata": {
  "colab": {
   "provenance": []
  },
  "kernelspec": {
   "display_name": "Python 3 (ipykernel)",
   "language": "python",
   "name": "python3"
  },
  "language_info": {
   "codemirror_mode": {
    "name": "ipython",
    "version": 3
   },
   "file_extension": ".py",
   "mimetype": "text/x-python",
   "name": "python",
   "nbconvert_exporter": "python",
   "pygments_lexer": "ipython3",
   "version": "3.8.10"
  }
 },
 "nbformat": 4,
 "nbformat_minor": 4
}
